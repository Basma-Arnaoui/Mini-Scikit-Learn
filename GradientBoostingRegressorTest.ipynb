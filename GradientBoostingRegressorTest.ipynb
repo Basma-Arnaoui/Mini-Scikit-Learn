{
 "cells": [
  {
   "cell_type": "code",
   "execution_count": 3,
   "metadata": {},
   "outputs": [
    {
     "name": "stdout",
     "output_type": "stream",
     "text": [
      "Custom Mean Squared Error: 3056.636797676857\n",
      "Sklearn Mean Squared Error: 3071.448520446322\n"
     ]
    }
   ],
   "source": [
    "from sklearn.datasets import load_diabetes\n",
    "from sklearn.metrics import mean_squared_error\n",
    "from sklearn.model_selection import train_test_split\n",
    "from sklearn.ensemble import GradientBoostingRegressor as SklearnGBR\n",
    "from ensemble.GradientBoostingRegressor import GradientBoostingRegressor\n",
    "\n",
    "data = load_diabetes()\n",
    "X, y = data.data, data.target\n",
    "X_train, X_test, y_train, y_test = train_test_split(X, y, test_size=0.3, random_state=42)\n",
    "\n",
    "# Custom GradientBoostingRegressor\n",
    "custom_model = GradientBoostingRegressor(random_state=42)\n",
    "custom_model.fit(X_train, y_train)\n",
    "custom_predictions = custom_model.predict(X_test)\n",
    "custom_mse = mean_squared_error(y_test, custom_predictions)\n",
    "\n",
    "# Sklearn GradientBoostingRegressor\n",
    "sklearn_model = SklearnGBR(random_state=42)\n",
    "sklearn_model.fit(X_train, y_train)\n",
    "sklearn_predictions = sklearn_model.predict(X_test)\n",
    "sklearn_mse = mean_squared_error(y_test, sklearn_predictions)\n",
    "\n",
    "print(f\"Custom Mean Squared Error: {custom_mse}\")\n",
    "print(f\"Sklearn Mean Squared Error: {sklearn_mse}\")\n"
   ]
  }
 ],
 "metadata": {
  "kernelspec": {
   "display_name": "base",
   "language": "python",
   "name": "python3"
  },
  "language_info": {
   "codemirror_mode": {
    "name": "ipython",
    "version": 3
   },
   "file_extension": ".py",
   "mimetype": "text/x-python",
   "name": "python",
   "nbconvert_exporter": "python",
   "pygments_lexer": "ipython3",
   "version": "3.12.2"
  }
 },
 "nbformat": 4,
 "nbformat_minor": 2
}
