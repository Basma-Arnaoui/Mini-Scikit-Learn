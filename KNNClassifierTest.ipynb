{
 "cells": [
  {
   "cell_type": "code",
   "execution_count": 3,
   "metadata": {},
   "outputs": [
    {
     "name": "stdout",
     "output_type": "stream",
     "text": [
      "Our Model Accuracy: 0.7500\n",
      "Scikit-Learn Model Accuracy: 0.7222\n",
      "Our Model Precision: 0.7633\n",
      "Scikit-Learn Model Precision: 0.7222\n",
      "Our Model Recall: 0.7500\n",
      "Scikit-Learn Model Recall: 0.7222\n",
      "Our Model F1: 0.7558\n",
      "Scikit-Learn Model F1: 0.7222\n"
     ]
    }
   ],
   "source": [
    "import numpy as np\n",
    "import pandas as pd\n",
    "from sklearn.model_selection import train_test_split\n",
    "from sklearn.neighbors import KNeighborsClassifier as SklearnKNN\n",
    "from sklearn.metrics import accuracy_score, precision_score, recall_score, f1_score\n",
    "from sklearn.datasets import load_wine\n",
    "from supervised_learning.classification.KNNClassifier import KNNClassifier\n",
    "\n",
    "# Load dataset\n",
    "wine = load_wine()\n",
    "df = pd.DataFrame(data=np.c_[wine['data'], wine['target']],\n",
    "                  columns=wine['feature_names'] + ['target'])\n",
    "\n",
    "X = df.iloc[:, :-1].values\n",
    "y = df.iloc[:, -1].values\n",
    "\n",
    "# Split the dataset into training and test sets\n",
    "X_train, X_test, y_train, y_test = train_test_split(X, y, test_size=0.2, random_state=42)\n",
    "\n",
    "# Train our KNN model\n",
    "our_model = KNNClassifier(n_neighbors=5)\n",
    "our_model.fit(X_train, y_train)\n",
    "y_pred_our = our_model.predict(X_test)\n",
    "\n",
    "# Train sklearn's KNN model\n",
    "sklearn_model = SklearnKNN(n_neighbors=5)\n",
    "sklearn_model.fit(X_train, y_train)\n",
    "y_pred_sklearn = sklearn_model.predict(X_test)\n",
    "\n",
    "# Evaluate models using accuracy, precision, recall, and F1 score\n",
    "metrics = {\n",
    "    'accuracy': accuracy_score,\n",
    "    'precision': precision_score,\n",
    "    'recall': recall_score,\n",
    "    'f1': f1_score\n",
    "}\n",
    "\n",
    "# For precision, recall, and F1 score, specify the 'average' argument\n",
    "for metric_name, metric_func in metrics.items():\n",
    "    if metric_name == 'accuracy':\n",
    "        score_our = metric_func(y_test, y_pred_our)\n",
    "        score_sklearn = metric_func(y_test, y_pred_sklearn)\n",
    "    else:\n",
    "        score_our = metric_func(y_test, y_pred_our, average='weighted')\n",
    "        score_sklearn = metric_func(y_test, y_pred_sklearn, average='weighted')\n",
    "    print(f\"Our Model {metric_name.capitalize()}: {score_our:.4f}\")\n",
    "    print(f\"Scikit-Learn Model {metric_name.capitalize()}: {score_sklearn:.4f}\")\n"
   ]
  }
 ],
 "metadata": {
  "kernelspec": {
   "display_name": "Python 3",
   "language": "python",
   "name": "python3"
  },
  "language_info": {
   "codemirror_mode": {
    "name": "ipython",
    "version": 3
   },
   "file_extension": ".py",
   "mimetype": "text/x-python",
   "name": "python",
   "nbconvert_exporter": "python",
   "pygments_lexer": "ipython3",
   "version": "3.10.13"
  }
 },
 "nbformat": 4,
 "nbformat_minor": 2
}
