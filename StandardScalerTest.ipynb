{
 "cells": [
  {
   "cell_type": "code",
   "execution_count": 1,
   "metadata": {},
   "outputs": [
    {
     "name": "stdout",
     "output_type": "stream",
     "text": [
      "StandardScaler tests passed!\n"
     ]
    }
   ],
   "source": [
    "import numpy as np\n",
    "from preprocessing.StandardScaler import StandardScaler\n",
    "\n",
    "def test_standard_scaler():\n",
    "    X = np.array([[1, 2, 3],\n",
    "                  [4, 5, 6],\n",
    "                  [7, 8, 9]])\n",
    "\n",
    "    scaler = StandardScaler()\n",
    "    X_scaled = scaler.fit_transform(X)\n",
    "\n",
    "    assert np.allclose(scaler.mean_, np.array([4, 5, 6])), \"Mean computation failed.\"\n",
    "    assert np.allclose(scaler.std_, np.array([2.44949, 2.44949, 2.44949]), atol=1e-5), \"Standard deviation computation failed.\"\n",
    "\n",
    "    X_expected_scaled = (X - scaler.mean_) / scaler.std_\n",
    "    assert np.allclose(X_scaled, X_expected_scaled, atol=1e-5), \"Transformation failed.\"\n",
    "\n",
    "    print(\"StandardScaler tests passed!\")\n",
    "\n",
    "test_standard_scaler()\n"
   ]
  },
  {
   "cell_type": "code",
   "execution_count": null,
   "metadata": {},
   "outputs": [],
   "source": []
  }
 ],
 "metadata": {
  "kernelspec": {
   "display_name": "Python 3",
   "language": "python",
   "name": "python3"
  },
  "language_info": {
   "codemirror_mode": {
    "name": "ipython",
    "version": 3
   },
   "file_extension": ".py",
   "mimetype": "text/x-python",
   "name": "python",
   "nbconvert_exporter": "python",
   "pygments_lexer": "ipython3",
   "version": "3.10.9"
  }
 },
 "nbformat": 4,
 "nbformat_minor": 2
}
