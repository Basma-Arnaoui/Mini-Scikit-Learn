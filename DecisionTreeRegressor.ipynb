{
 "cells": [
  {
   "cell_type": "code",
   "execution_count": 2,
   "metadata": {},
   "outputs": [
    {
     "name": "stdout",
     "output_type": "stream",
     "text": [
      "\n",
      "California Housing Dataset Evaluation:\n",
      "Our Model Mean Squared Error: 0.4954\n",
      "Scikit-Learn Model Mean Squared Error: 0.5245\n",
      "Our Model R2 Score: 0.6219\n",
      "Scikit-Learn Model R2 Score: 0.5997\n",
      "\n",
      "Diabetes Dataset Evaluation:\n",
      "Our Model Mean Squared Error: 3978.4958\n",
      "Scikit-Learn Model Mean Squared Error: 3416.2260\n",
      "Our Model R2 Score: 0.2491\n",
      "Scikit-Learn Model R2 Score: 0.3552\n"
     ]
    }
   ],
   "source": [
    "import numpy as np\n",
    "from sklearn.model_selection import train_test_split\n",
    "from sklearn.tree import DecisionTreeRegressor as SklearnDecisionTreeRegressor\n",
    "from sklearn.metrics import mean_squared_error, r2_score\n",
    "from sklearn.datasets import fetch_california_housing, load_diabetes\n",
    "from sklearn.preprocessing import StandardScaler\n",
    "from supervised_learning.regression.DecisionTreeRegressor import DecisionTreeRegressor\n",
    "\n",
    "def evaluate_model(X, y, dataset_name):\n",
    "    # Standardize features\n",
    "    scaler = StandardScaler()\n",
    "    X = scaler.fit_transform(X)\n",
    "\n",
    "    # Split the dataset into training and test sets\n",
    "    X_train, X_test, y_train, y_test = train_test_split(X, y, test_size=0.2, random_state=42)\n",
    "\n",
    "    # Train our decision tree regressor\n",
    "    our_model = DecisionTreeRegressor(min_samples_split=5, max_depth=5)\n",
    "    our_model.fit(X_train, y_train)\n",
    "    y_pred_our = our_model.predict(X_test)\n",
    "\n",
    "    # Train sklearn's decision tree regressor\n",
    "    sklearn_model = SklearnDecisionTreeRegressor(min_samples_split=5, max_depth=5)\n",
    "    sklearn_model.fit(X_train, y_train)\n",
    "    y_pred_sklearn = sklearn_model.predict(X_test)\n",
    "\n",
    "    # Calculate evaluation metrics\n",
    "    mse_our = mean_squared_error(y_test, y_pred_our)\n",
    "    mse_sklearn = mean_squared_error(y_test, y_pred_sklearn)\n",
    "\n",
    "    r2_our = r2_score(y_test, y_pred_our)\n",
    "    r2_sklearn = r2_score(y_test, y_pred_sklearn)\n",
    "\n",
    "    # Print evaluation metrics\n",
    "    print(f\"\\n{dataset_name} Dataset Evaluation:\")\n",
    "    print(f\"Our Model Mean Squared Error: {mse_our:.4f}\")\n",
    "    print(f\"Scikit-Learn Model Mean Squared Error: {mse_sklearn:.4f}\")\n",
    "\n",
    "    print(f\"Our Model R2 Score: {r2_our:.4f}\")\n",
    "    print(f\"Scikit-Learn Model R2 Score: {r2_sklearn:.4f}\")\n",
    "\n",
    "# Evaluate on California Housing dataset\n",
    "california_housing = fetch_california_housing()\n",
    "evaluate_model(california_housing.data, california_housing.target, \"California Housing\")\n",
    "\n",
    "# Evaluate on Diabetes dataset\n",
    "diabetes = load_diabetes()\n",
    "evaluate_model(diabetes.data, diabetes.target, \"Diabetes\")"
   ]
  }
 ],
 "metadata": {
  "kernelspec": {
   "display_name": "Python 3",
   "language": "python",
   "name": "python3"
  },
  "language_info": {
   "codemirror_mode": {
    "name": "ipython",
    "version": 3
   },
   "file_extension": ".py",
   "mimetype": "text/x-python",
   "name": "python",
   "nbconvert_exporter": "python",
   "pygments_lexer": "ipython3",
   "version": "3.12.2"
  }
 },
 "nbformat": 4,
 "nbformat_minor": 2
}
