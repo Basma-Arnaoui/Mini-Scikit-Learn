{
 "cells": [
  {
   "cell_type": "markdown",
   "metadata": {},
   "source": [
    "### Model Comparison: Custom Implementations vs Scikit-Learn\n"
   ]
  },
  {
   "cell_type": "code",
   "execution_count": 2,
   "metadata": {},
   "outputs": [],
   "source": [
    "from sklearn.datasets import load_wine\n",
    "from sklearn.metrics import accuracy_score\n",
    "from sklearn.model_selection import train_test_split\n",
    "\n",
    "# Load the wine dataset\n",
    "data = load_wine()\n",
    "X, y = data.data, data.target\n",
    "X_train, X_test, y_train, y_test = train_test_split(X, y, test_size=0.3, random_state=42)\n"
   ]
  },
  {
   "cell_type": "markdown",
   "metadata": {},
   "source": [
    "### Custom vs Scikit-Learn: GradientBoostingClassifier\n"
   ]
  },
  {
   "cell_type": "code",
   "execution_count": 3,
   "metadata": {},
   "outputs": [
    {
     "name": "stdout",
     "output_type": "stream",
     "text": [
      "Custom GradientBoostingClassifier Accuracy: 0.6851851851851852\n",
      "Scikit-Learn GradientBoostingClassifier Accuracy: 0.9074074074074074\n"
     ]
    }
   ],
   "source": [
    "from ensemble.GradientBoostingClassifier import GradientBoostingClassifier\n",
    "from sklearn.ensemble import GradientBoostingClassifier as SklearnGBC\n",
    "\n",
    "# Custom GradientBoostingClassifier\n",
    "custom_gbc = GradientBoostingClassifier(random_state=42)\n",
    "custom_gbc.fit(X_train, y_train)\n",
    "custom_gbc_predictions = custom_gbc.predict(X_test)\n",
    "custom_gbc_accuracy = accuracy_score(y_test, custom_gbc_predictions)\n",
    "\n",
    "# Scikit-Learn GradientBoostingClassifier\n",
    "sklearn_gbc = SklearnGBC(random_state=42)\n",
    "sklearn_gbc.fit(X_train, y_train)\n",
    "sklearn_gbc_predictions = sklearn_gbc.predict(X_test)\n",
    "sklearn_gbc_accuracy = accuracy_score(y_test, sklearn_gbc_predictions)\n",
    "\n",
    "print(f\"Custom GradientBoostingClassifier Accuracy: {custom_gbc_accuracy}\")\n",
    "print(f\"Scikit-Learn GradientBoostingClassifier Accuracy: {sklearn_gbc_accuracy}\")\n"
   ]
  },
  {
   "cell_type": "markdown",
   "metadata": {},
   "source": [
    "### Custom vs Scikit-Learn: RandomForestClassifier\n"
   ]
  },
  {
   "cell_type": "code",
   "execution_count": 4,
   "metadata": {},
   "outputs": [
    {
     "name": "stdout",
     "output_type": "stream",
     "text": [
      "Custom RandomForestClassifier Accuracy: 0.9629629629629629\n",
      "Scikit-Learn RandomForestClassifier Accuracy: 1.0\n"
     ]
    }
   ],
   "source": [
    "from ensemble.RandomForestClassifier import RandomForestClassifier\n",
    "from sklearn.ensemble import RandomForestClassifier as SklearnRFC\n",
    "\n",
    "# Custom RandomForestClassifier\n",
    "custom_rfc = RandomForestClassifier(random_state=42)\n",
    "custom_rfc.fit(X_train, y_train)\n",
    "custom_rfc_predictions = custom_rfc.predict(X_test)\n",
    "custom_rfc_accuracy = accuracy_score(y_test, custom_rfc_predictions)\n",
    "\n",
    "# Scikit-Learn RandomForestClassifier\n",
    "sklearn_rfc = SklearnRFC(random_state=42)\n",
    "sklearn_rfc.fit(X_train, y_train)\n",
    "sklearn_rfc_predictions = sklearn_rfc.predict(X_test)\n",
    "sklearn_rfc_accuracy = accuracy_score(y_test, sklearn_rfc_predictions)\n",
    "\n",
    "print(f\"Custom RandomForestClassifier Accuracy: {custom_rfc_accuracy}\")\n",
    "print(f\"Scikit-Learn RandomForestClassifier Accuracy: {sklearn_rfc_accuracy}\")\n"
   ]
  },
  {
   "cell_type": "markdown",
   "metadata": {},
   "source": [
    "### Custom vs Scikit-Learn: KNNClassifier\n"
   ]
  },
  {
   "cell_type": "code",
   "execution_count": 5,
   "metadata": {},
   "outputs": [
    {
     "name": "stdout",
     "output_type": "stream",
     "text": [
      "Custom KNNClassifier Accuracy: 0.7407407407407407\n",
      "Scikit-Learn KNeighborsClassifier Accuracy: 0.7407407407407407\n"
     ]
    }
   ],
   "source": [
    "from supervised_learning.classification.KNNClassifier import KNNClassifier\n",
    "from sklearn.neighbors import KNeighborsClassifier as SklearnKNN\n",
    "\n",
    "# Custom KNNClassifier\n",
    "custom_knn = KNNClassifier()\n",
    "custom_knn.fit(X_train, y_train)\n",
    "custom_knn_predictions = custom_knn.predict(X_test)\n",
    "custom_knn_accuracy = accuracy_score(y_test, custom_knn_predictions)\n",
    "\n",
    "# Scikit-Learn KNeighborsClassifier\n",
    "sklearn_knn = SklearnKNN()\n",
    "sklearn_knn.fit(X_train, y_train)\n",
    "sklearn_knn_predictions = sklearn_knn.predict(X_test)\n",
    "sklearn_knn_accuracy = accuracy_score(y_test, sklearn_knn_predictions)\n",
    "\n",
    "print(f\"Custom KNNClassifier Accuracy: {custom_knn_accuracy}\")\n",
    "print(f\"Scikit-Learn KNeighborsClassifier Accuracy: {sklearn_knn_accuracy}\")"
   ]
  },
  {
   "cell_type": "markdown",
   "metadata": {},
   "source": [
    "### Custom vs Scikit-Learn: DecisionTreeClassifier"
   ]
  },
  {
   "cell_type": "code",
   "execution_count": 6,
   "metadata": {},
   "outputs": [
    {
     "name": "stdout",
     "output_type": "stream",
     "text": [
      "Custom DecisionTreeClassifier Accuracy: 0.9629629629629629\n",
      "Scikit-Learn DecisionTreeClassifier Accuracy: 0.9444444444444444\n"
     ]
    }
   ],
   "source": [
    "from supervised_learning.classification.DecisionTreeClassifier import DecisionTreeClassifier\n",
    "from sklearn.tree import DecisionTreeClassifier as SklearnDTC\n",
    "\n",
    "# Custom DecisionTreeClassifier\n",
    "custom_dtc = DecisionTreeClassifier()\n",
    "custom_dtc.fit(X_train, y_train)\n",
    "custom_dtc_predictions = custom_dtc.predict(X_test)\n",
    "custom_dtc_accuracy = accuracy_score(y_test, custom_dtc_predictions)\n",
    "\n",
    "# Scikit-Learn DecisionTreeClassifier\n",
    "sklearn_dtc = SklearnDTC()\n",
    "sklearn_dtc.fit(X_train, y_train)\n",
    "sklearn_dtc_predictions = sklearn_dtc.predict(X_test)\n",
    "sklearn_dtc_accuracy = accuracy_score(y_test, sklearn_dtc_predictions)\n",
    "\n",
    "print(f\"Custom DecisionTreeClassifier Accuracy: {custom_dtc_accuracy}\")\n",
    "print(f\"Scikit-Learn DecisionTreeClassifier Accuracy: {sklearn_dtc_accuracy}\")"
   ]
  },
  {
   "cell_type": "markdown",
   "metadata": {},
   "source": [
    "### Custom vs Scikit-Learn: AdaBoost\n"
   ]
  },
  {
   "cell_type": "code",
   "execution_count": 7,
   "metadata": {},
   "outputs": [
    {
     "name": "stdout",
     "output_type": "stream",
     "text": [
      "Custom AdaBoost Accuracy: 0.6111111111111112\n",
      "Scikit-Learn AdaBoost Accuracy: 0.9259259259259259\n"
     ]
    },
    {
     "name": "stderr",
     "output_type": "stream",
     "text": [
      "/Library/Frameworks/Python.framework/Versions/3.10/lib/python3.10/site-packages/sklearn/ensemble/_weight_boosting.py:519: FutureWarning: The SAMME.R algorithm (the default) is deprecated and will be removed in 1.6. Use the SAMME algorithm to circumvent this warning.\n",
      "  warnings.warn(\n"
     ]
    }
   ],
   "source": [
    "from ensemble.AdaBoost import AdaBoost\n",
    "from sklearn.ensemble import AdaBoostClassifier as SklearnAdaBoost\n",
    "\n",
    "# Custom AdaBoost\n",
    "custom_ada = AdaBoost(n_estimators=50, learning_rate=1.0)\n",
    "custom_ada.fit(X_train, y_train)\n",
    "custom_ada_predictions = custom_ada.predict(X_test)\n",
    "custom_ada_accuracy = accuracy_score(y_test, custom_ada_predictions)\n",
    "\n",
    "# Scikit-Learn AdaBoost\n",
    "sklearn_ada = SklearnAdaBoost(n_estimators=50, learning_rate=1.0, random_state=42)\n",
    "sklearn_ada.fit(X_train, y_train)\n",
    "sklearn_ada_predictions = sklearn_ada.predict(X_test)\n",
    "sklearn_ada_accuracy = accuracy_score(y_test, sklearn_ada_predictions)\n",
    "\n",
    "print(f\"Custom AdaBoost Accuracy: {custom_ada_accuracy}\")\n",
    "print(f\"Scikit-Learn AdaBoost Accuracy: {sklearn_ada_accuracy}\")"
   ]
  },
  {
   "cell_type": "markdown",
   "metadata": {},
   "source": [
    "### Custom vs Scikit-Learn: SVM\n"
   ]
  },
  {
   "cell_type": "code",
   "execution_count": 8,
   "metadata": {},
   "outputs": [
    {
     "name": "stdout",
     "output_type": "stream",
     "text": [
      "Custom SVM Accuracy: 0.3888888888888889\n",
      "Scikit-Learn SVM Accuracy: 0.7592592592592593\n"
     ]
    }
   ],
   "source": [
    "from supervised_learning.classification.SVM import SVM  # Assuming SVM class is implemented in this module\n",
    "from sklearn.svm import SVC as SklearnSVM\n",
    "\n",
    "# Custom SVM\n",
    "custom_svm = SVM()  # Adjust parameters as per your custom SVM implementation\n",
    "custom_svm.fit(X_train, y_train)\n",
    "custom_svm_predictions = custom_svm.predict(X_test)\n",
    "custom_svm_accuracy = accuracy_score(y_test, custom_svm_predictions)\n",
    "\n",
    "# Scikit-Learn SVM\n",
    "sklearn_svm = SklearnSVM()\n",
    "sklearn_svm.fit(X_train, y_train)\n",
    "sklearn_svm_predictions = sklearn_svm.predict(X_test)\n",
    "sklearn_svm_accuracy = accuracy_score(y_test, sklearn_svm_predictions)\n",
    "\n",
    "print(f\"Custom SVM Accuracy: {custom_svm_accuracy}\")\n",
    "print(f\"Scikit-Learn SVM Accuracy: {sklearn_svm_accuracy}\")\n"
   ]
  },
  {
   "cell_type": "markdown",
   "metadata": {},
   "source": [
    "### Custom vs Scikit-Learn: Naive-Bayes\n"
   ]
  },
  {
   "cell_type": "code",
   "execution_count": 9,
   "metadata": {},
   "outputs": [
    {
     "name": "stdout",
     "output_type": "stream",
     "text": [
      "Custom Naive Bayes Accuracy: 1.0\n",
      "Scikit-Learn Naive Bayes Accuracy: 1.0\n"
     ]
    }
   ],
   "source": [
    "from supervised_learning.classification.NaiveBayes import NaiveBayes  # Assuming NaiveBayes class is implemented in this module\n",
    "from sklearn.naive_bayes import GaussianNB as SklearnNaiveBayes\n",
    "\n",
    "# Custom Naive Bayes\n",
    "custom_nb = NaiveBayes()\n",
    "custom_nb.fit(X_train, y_train)\n",
    "custom_nb_predictions = custom_nb.predict(X_test)\n",
    "custom_nb_accuracy = accuracy_score(y_test, custom_nb_predictions)\n",
    "\n",
    "# Scikit-Learn Naive Bayes\n",
    "sklearn_nb = SklearnNaiveBayes()\n",
    "sklearn_nb.fit(X_train, y_train)\n",
    "sklearn_nb_predictions = sklearn_nb.predict(X_test)\n",
    "sklearn_nb_accuracy = accuracy_score(y_test, sklearn_nb_predictions)\n",
    "\n",
    "print(f\"Custom Naive Bayes Accuracy: {custom_nb_accuracy}\")\n",
    "print(f\"Scikit-Learn Naive Bayes Accuracy: {sklearn_nb_accuracy}\")\n"
   ]
  },
  {
   "cell_type": "markdown",
   "metadata": {},
   "source": [
    "### Plotting the Results\n"
   ]
  },
  {
   "cell_type": "code",
   "execution_count": 10,
   "metadata": {},
   "outputs": [
    {
     "data": {
      "image/png": "[encoded data removed]",
      "text/plain": [
       "<Figure size 720x432 with 1 Axes>"
      ]
     },
     "metadata": {
      "needs_background": "light"
     },
     "output_type": "display_data"
    }
   ],
   "source": [
    "import matplotlib.pyplot as plt\n",
    "import numpy as np\n",
    "\n",
    "# Data for plotting\n",
    "models = ['GradientBoosting', 'RandomForest', 'KNN', 'DecisionTree', 'NaiveBayes']\n",
    "custom_accuracies = [custom_gbc_accuracy, custom_rfc_accuracy, custom_knn_accuracy, custom_dtc_accuracy, custom_nb_accuracy]\n",
    "sklearn_accuracies = [sklearn_gbc_accuracy, sklearn_rfc_accuracy, sklearn_knn_accuracy, sklearn_dtc_accuracy, sklearn_nb_accuracy]\n",
    "\n",
    "# Plotting\n",
    "fig, ax = plt.subplots(figsize=(10, 6))\n",
    "width = 0.35  # the width of the bars\n",
    "\n",
    "x = np.arange(len(models))\n",
    "rects1 = ax.bar(x - width/2, custom_accuracies, width, label='Custom', color='skyblue', edgecolor='black')\n",
    "rects2 = ax.bar(x + width/2, sklearn_accuracies, width, label='Scikit-Learn', color='lightgreen', edgecolor='black')\n",
    "\n",
    "# Adding some aesthetics\n",
    "ax.set_xlabel('Models', fontsize=14)\n",
    "ax.set_ylabel('Accuracy', fontsize=14)\n",
    "ax.set_title('Model Accuracy: Custom vs Scikit-Learn', fontsize=16)\n",
    "ax.set_xticks(x)\n",
    "ax.set_xticklabels(models, fontsize=12, rotation=45)\n",
    "ax.legend(fontsize=12)\n",
    "\n",
    "# Adding gridlines\n",
    "ax.grid(True, linestyle='--', alpha=0.6)\n",
    "\n",
    "# Adding bar labels\n",
    "ax.bar_label(rects1, padding=5, fontsize=12)\n",
    "ax.bar_label(rects2, padding=5, fontsize=12)\n",
    "\n",
    "fig.tight_layout()\n",
    "\n",
    "# Show plot with improved aesthetics\n",
    "plt.show()\n"
   ]
  },
  {
   "cell_type": "code",
   "execution_count": null,
   "metadata": {},
   "outputs": [],
   "source": []
  }
 ],
 "metadata": {
  "kernelspec": {
   "display_name": "Python 3",
   "language": "python",
   "name": "python3"
  },
  "language_info": {
   "codemirror_mode": {
    "name": "ipython",
    "version": 3
   },
   "file_extension": ".py",
   "mimetype": "text/x-python",
   "name": "python",
   "nbconvert_exporter": "python",
   "pygments_lexer": "ipython3",
   "version": "3.10.9"
  }
 },
 "nbformat": 4,
 "nbformat_minor": 2
}
