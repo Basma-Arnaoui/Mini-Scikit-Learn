{
 "cells": [
  {
   "cell_type": "code",
   "execution_count": 2,
   "metadata": {},
   "outputs": [
    {
     "name": "stdout",
     "output_type": "stream",
     "text": [
      "Custom MSE: 0.5305677824766755, Sklearn MSE: 0.5305677824766755\n",
      "Custom RMSE: 0.7284008391515454, Sklearn RMSE: 0.7284008391515454\n",
      "Custom MAE: 0.527247453830617, Sklearn MAE: 0.527247453830617\n",
      "Custom R2: 0.5957714480625373, Sklearn R2: 0.5957702326061662\n"
     ]
    }
   ],
   "source": [
    "import numpy as np\n",
    "from sklearn.datasets import fetch_california_housing\n",
    "from sklearn.model_selection import train_test_split\n",
    "from sklearn.linear_model import LinearRegression\n",
    "from sklearn.metrics import mean_squared_error as sklearn_ms\n",
    "from sklearn.metrics import mean_absolute_error as sklearn_ma\n",
    "from sklearn.metrics import r2_score as sklearn_r\n",
    "\n",
    "from metrics.MeanSquaredError import MeanSquaredError\n",
    "from metrics.RootMeanSquaredError import RootMeanSquaredError\n",
    "from metrics.MeanAbsoluteError import MeanAbsoluteError\n",
    "from metrics.RSquared import RSquared\n",
    "\n",
    "def test_regression_metrics():\n",
    "    # Load data\n",
    "    data = fetch_california_housing()\n",
    "    X, y = data.data, data.target\n",
    "\n",
    "    # Split data\n",
    "    X_train, X_test, y_train, y_test = train_test_split(X, y, test_size=0.3, random_state=42)\n",
    "\n",
    "    # Fit model\n",
    "    model = LinearRegression()\n",
    "    model.fit(X_train, y_train)\n",
    "    y_pred = model.predict(X_test)\n",
    "\n",
    "    # Initialize metric objects\n",
    "    mse = MeanSquaredError()\n",
    "    rmse = RootMeanSquaredError()\n",
    "    mae = MeanAbsoluteError()\n",
    "    r_squared = RSquared()\n",
    "\n",
    "    # Calculate custom metrics\n",
    "    custom_mse = mse.score(y_test, y_pred)\n",
    "    custom_rmse = rmse.score(y_test, y_pred)\n",
    "    custom_mae = mae.score(y_test, y_pred)\n",
    "    custom_r2 = r_squared.score(y_test, y_pred)\n",
    "\n",
    "    # Calculate sklearn metrics\n",
    "    sklearn_mse = sklearn_ms(y_test, y_pred)\n",
    "    sklearn_rmse = np.sqrt(sklearn_mse)\n",
    "    sklearn_mae = sklearn_ma(y_test, y_pred)\n",
    "    sklearn_r2 = sklearn_r(y_test, y_pred)\n",
    "\n",
    "    # Output results\n",
    "    print(f\"Custom MSE: {custom_mse}, Sklearn MSE: {sklearn_mse}\")\n",
    "    print(f\"Custom RMSE: {custom_rmse}, Sklearn RMSE: {sklearn_rmse}\")\n",
    "    print(f\"Custom MAE: {custom_mae}, Sklearn MAE: {sklearn_mae}\")\n",
    "    print(f\"Custom R2: {custom_r2}, Sklearn R2: {sklearn_r2}\")\n",
    "\n",
    "test_regression_metrics()"
   ]
  }
 ],
 "metadata": {
  "kernelspec": {
   "display_name": "base",
   "language": "python",
   "name": "python3"
  },
  "language_info": {
   "codemirror_mode": {
    "name": "ipython",
    "version": 3
   },
   "file_extension": ".py",
   "mimetype": "text/x-python",
   "name": "python",
   "nbconvert_exporter": "python",
   "pygments_lexer": "ipython3",
   "version": "3.12.2"
  }
 },
 "nbformat": 4,
 "nbformat_minor": 2
}
