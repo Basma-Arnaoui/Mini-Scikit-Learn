{
 "cells": [
  {
   "cell_type": "code",
   "execution_count": 1,
   "metadata": {},
   "outputs": [
    {
     "name": "stdout",
     "output_type": "stream",
     "text": [
      "Our Model Accuracy: 0.9824561403508771\n",
      "Scikit-Learn Model Accuracy: 0.9736842105263158\n"
     ]
    }
   ],
   "source": [
    "import numpy as np\n",
    "import pandas as pd\n",
    "from sklearn.model_selection import train_test_split\n",
    "from sklearn.linear_model import LogisticRegression as SklearnLogisticRegression\n",
    "from sklearn.metrics import accuracy_score\n",
    "from sklearn.datasets import load_breast_cancer\n",
    "from sklearn.preprocessing import StandardScaler\n",
    "from supervised_learning.classification.LogisticRegression import LogisticRegression\n",
    "\n",
    "# Load dataset\n",
    "breast_cancer = load_breast_cancer()\n",
    "df = pd.DataFrame(data=np.c_[breast_cancer['data'], breast_cancer['target']],\n",
    "                  columns=breast_cancer['feature_names'].tolist() + ['target'])\n",
    "\n",
    "X = df.iloc[:, :-1].values\n",
    "y = df.iloc[:, -1].values\n",
    "\n",
    "# Feature scaling\n",
    "scaler = StandardScaler()\n",
    "X = scaler.fit_transform(X)\n",
    "\n",
    "# Split the dataset into training and test sets\n",
    "X_train, X_test, y_train, y_test = train_test_split(X, y, test_size=0.2, random_state=42)\n",
    "\n",
    "# Train our logistic regression model\n",
    "our_model = LogisticRegression(learning_rate=0.001, n_iterations=5000,tol = 0.000001,  regularization=0.01)\n",
    "our_model.fit(X_train, y_train)\n",
    "y_pred_our = our_model.predict(X_test)\n",
    "\n",
    "# Train sklearn's logistic regression model\n",
    "sklearn_model = SklearnLogisticRegression(max_iter=1000)\n",
    "sklearn_model.fit(X_train, y_train)\n",
    "y_pred_sklearn = sklearn_model.predict(X_test)\n",
    "\n",
    "# Evaluate models using accuracy\n",
    "accuracy_our = accuracy_score(y_test, y_pred_our)\n",
    "accuracy_sklearn = accuracy_score(y_test, y_pred_sklearn)\n",
    "\n",
    "print(f\"Our Model Accuracy: {accuracy_our}\")\n",
    "print(f\"Scikit-Learn Model Accuracy: {accuracy_sklearn}\")\n"
   ]
  },
  {
   "cell_type": "code",
   "execution_count": null,
   "metadata": {},
   "outputs": [],
   "source": []
  }
 ],
 "metadata": {
  "kernelspec": {
   "display_name": "Python 3",
   "language": "python",
   "name": "python3"
  },
  "language_info": {
   "codemirror_mode": {
    "name": "ipython",
    "version": 3
   },
   "file_extension": ".py",
   "mimetype": "text/x-python",
   "name": "python",
   "nbconvert_exporter": "python",
   "pygments_lexer": "ipython3",
   "version": "3.10.9"
  }
 },
 "nbformat": 4,
 "nbformat_minor": 2
}
