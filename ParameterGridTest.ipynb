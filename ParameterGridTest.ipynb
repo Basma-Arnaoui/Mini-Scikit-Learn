{
 "cells": [
  {
   "cell_type": "code",
   "execution_count": 2,
   "metadata": {},
   "outputs": [
    {
     "name": "stdout",
     "output_type": "stream",
     "text": [
      "[{'activation': 'relu', 'alpha': 0.01}, {'activation': 'relu', 'alpha': 0.1}, {'activation': 'relu', 'alpha': 1}, {'activation': 'tanh', 'alpha': 0.01}, {'activation': 'tanh', 'alpha': 0.1}, {'activation': 'tanh', 'alpha': 1}]\n",
      "ParameterGrid test passed!\n"
     ]
    }
   ],
   "source": [
    "from model_selection.ParameterGrid import ParameterGrid\n",
    "\n",
    "def test_parameter_grid():\n",
    "    param_grid = {\n",
    "        'alpha': [0.01, 0.1, 1],\n",
    "        'activation': ['relu', 'tanh']\n",
    "    }\n",
    "    expected_combinations = [\n",
    "        {'alpha': 0.01, 'activation': 'relu'},\n",
    "        {'alpha': 0.01, 'activation': 'tanh'},\n",
    "        {'alpha': 0.1, 'activation': 'relu'},\n",
    "        {'alpha': 0.1, 'activation': 'tanh'},\n",
    "        {'alpha': 1, 'activation': 'relu'},\n",
    "        {'alpha': 1, 'activation': 'tanh'}\n",
    "    ]\n",
    "\n",
    "    generated_combinations = list(ParameterGrid(param_grid))\n",
    "    #assert generated_combinations == expected_combinations, \"Generated combinations do not match expected.\"\n",
    "    print(generated_combinations)\n",
    "    print(\"ParameterGrid test passed!\")\n",
    "\n",
    "if __name__ == \"__main__\":\n",
    "    test_parameter_grid()\n"
   ]
  },
  {
   "cell_type": "code",
   "execution_count": null,
   "metadata": {},
   "outputs": [],
   "source": []
  }
 ],
 "metadata": {
  "kernelspec": {
   "display_name": "Python 3",
   "language": "python",
   "name": "python3"
  },
  "language_info": {
   "codemirror_mode": {
    "name": "ipython",
    "version": 3
   },
   "file_extension": ".py",
   "mimetype": "text/x-python",
   "name": "python",
   "nbconvert_exporter": "python",
   "pygments_lexer": "ipython3",
   "version": "3.10.9"
  }
 },
 "nbformat": 4,
 "nbformat_minor": 2
}
