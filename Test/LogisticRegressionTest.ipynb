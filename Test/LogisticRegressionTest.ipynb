{
 "cells": [
  {
   "cell_type": "code",
   "execution_count": 1,
   "metadata": {},
   "outputs": [
    {
     "name": "stdout",
     "output_type": "stream",
     "text": [
      "Our Model Accuracy: 0.6944\n",
      "Scikit-Learn Model Accuracy: 1.0000\n",
      "Our Model Precision: 0.7676\n",
      "Scikit-Learn Model Precision: 1.0000\n",
      "Our Model Recall: 0.6944\n",
      "Scikit-Learn Model Recall: 1.0000\n"
     ]
    }
   ],
   "source": [
    "import numpy as np\n",
    "import pandas as pd\n",
    "from sklearn.model_selection import train_test_split\n",
    "from sklearn.linear_model import LogisticRegression as SklearnLogisticRegression\n",
    "from sklearn.metrics import accuracy_score, precision_score, recall_score\n",
    "from sklearn.datasets import load_wine\n",
    "from sklearn.preprocessing import StandardScaler\n",
    "from supervised_learning.classification.LogisticRegression import LogisticRegression\n",
    "\n",
    "# Load dataset\n",
    "wine = load_wine()\n",
    "X, y = wine.data, wine.target\n",
    "\n",
    "# Standardize features\n",
    "scaler = StandardScaler()\n",
    "X = scaler.fit_transform(X)\n",
    "\n",
    "# Split the dataset into training and test sets\n",
    "X_train, X_test, y_train, y_test = train_test_split(X, y, test_size=0.2, random_state=42)\n",
    "\n",
    "# Train our logistic regression model\n",
    "our_model = LogisticRegression(learning_rate=0.001, n_iterations=10000, tol=1e-5, regularization=0.01)\n",
    "our_model.fit(X_train, y_train)\n",
    "y_pred_our = our_model.predict(X_test)\n",
    "\n",
    "# Train sklearn's logistic regression model\n",
    "sklearn_model = SklearnLogisticRegression(max_iter=1000)\n",
    "sklearn_model.fit(X_train, y_train)\n",
    "y_pred_sklearn = sklearn_model.predict(X_test)\n",
    "\n",
    "# Calculate evaluation metrics\n",
    "accuracy_our = accuracy_score(y_test, y_pred_our)\n",
    "accuracy_sklearn = accuracy_score(y_test, y_pred_sklearn)\n",
    "\n",
    "precision_our = precision_score(y_test, y_pred_our, average='weighted', zero_division=1)\n",
    "precision_sklearn = precision_score(y_test, y_pred_sklearn, average='weighted', zero_division=1)\n",
    "\n",
    "recall_our = recall_score(y_test, y_pred_our, average='weighted')\n",
    "recall_sklearn = recall_score(y_test, y_pred_sklearn, average='weighted')\n",
    "\n",
    "# Print evaluation metrics\n",
    "print(f\"Our Model Accuracy: {accuracy_our:.4f}\")\n",
    "print(f\"Scikit-Learn Model Accuracy: {accuracy_sklearn:.4f}\")\n",
    "\n",
    "print(f\"Our Model Precision: {precision_our:.4f}\")\n",
    "print(f\"Scikit-Learn Model Precision: {precision_sklearn:.4f}\")\n",
    "\n",
    "print(f\"Our Model Recall: {recall_our:.4f}\")\n",
    "print(f\"Scikit-Learn Model Recall: {recall_sklearn:.4f}\")\n"
   ]
  },
  {
   "cell_type": "code",
   "execution_count": null,
   "metadata": {},
   "outputs": [],
   "source": []
  }
 ],
 "metadata": {
  "kernelspec": {
   "display_name": "Python 3",
   "language": "python",
   "name": "python3"
  },
  "language_info": {
   "codemirror_mode": {
    "name": "ipython",
    "version": 3
   },
   "file_extension": ".py",
   "mimetype": "text/x-python",
   "name": "python",
   "nbconvert_exporter": "python",
   "pygments_lexer": "ipython3",
   "version": "3.10.9"
  }
 },
 "nbformat": 4,
 "nbformat_minor": 2
}
