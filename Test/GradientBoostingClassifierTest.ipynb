{
 "cells": [
  {
   "cell_type": "code",
   "execution_count": 1,
   "metadata": {},
   "outputs": [
    {
     "name": "stdout",
     "output_type": "stream",
     "text": [
      "Custom Accuracy: 1.0\n",
      "Sklearn Accuracy: 1.0\n"
     ]
    }
   ],
   "source": [
    "import sys\n",
    "sys.path.append(\"../\")\n",
    "from sklearn.datasets import load_iris\n",
    "from sklearn.metrics import accuracy_score\n",
    "from sklearn.model_selection import train_test_split\n",
    "from sklearn.ensemble import GradientBoostingClassifier as SklearnGBC\n",
    "from ensemble.GradientBoostingClassifier import GradientBoostingClassifier\n",
    "\n",
    "data = load_iris()\n",
    "X, y = data.data, (data.target == 2).astype(int)  # Binary classification\n",
    "X_train, X_test, y_train, y_test = train_test_split(X, y, test_size=0.3, random_state=42)\n",
    "\n",
    "# Custom GradientBoostingClassifier\n",
    "custom_model = GradientBoostingClassifier(random_state=42)\n",
    "custom_model.fit(X_train, y_train)\n",
    "custom_predictions = custom_model.predict(X_test)\n",
    "custom_accuracy = accuracy_score(y_test, custom_predictions)\n",
    "\n",
    "# Sklearn GradientBoostingClassifier\n",
    "sklearn_model = SklearnGBC(random_state=42)\n",
    "sklearn_model.fit(X_train, y_train)\n",
    "sklearn_predictions = sklearn_model.predict(X_test)\n",
    "sklearn_accuracy = accuracy_score(y_test, sklearn_predictions)\n",
    "\n",
    "print(f\"Custom Accuracy: {custom_accuracy}\")\n",
    "print(f\"Sklearn Accuracy: {sklearn_accuracy}\")"
   ]
  }
 ],
 "metadata": {
  "kernelspec": {
   "display_name": "base",
   "language": "python",
   "name": "python3"
  },
  "language_info": {
   "codemirror_mode": {
    "name": "ipython",
    "version": 3
   },
   "file_extension": ".py",
   "mimetype": "text/x-python",
   "name": "python",
   "nbconvert_exporter": "python",
   "pygments_lexer": "ipython3",
   "version": "3.12.2"
  }
 },
 "nbformat": 4,
 "nbformat_minor": 2
}
