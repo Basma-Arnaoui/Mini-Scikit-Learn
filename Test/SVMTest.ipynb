{
 "cells": [
  {
   "cell_type": "code",
   "execution_count": 1,
   "metadata": {},
   "outputs": [
    {
     "name": "stdout",
     "output_type": "stream",
     "text": [
      "Custom SVM Accuracy: 0.6228070175438597\n",
      "Scikit-Learn SVM Accuracy: 0.956140350877193\n"
     ]
    }
   ],
   "source": [
    "import sys\n",
    "sys.path.append(\"../\")\n",
    "import numpy as np\n",
    "from sklearn import datasets\n",
    "from sklearn.model_selection import train_test_split\n",
    "from sklearn.preprocessing import StandardScaler\n",
    "from sklearn.metrics import accuracy_score\n",
    "from sklearn.svm import SVC as SklearnSVC\n",
    "from supervised_learning.classification.SVM import SVM\n",
    "\n",
    "# Load data\n",
    "data = datasets.load_breast_cancer()\n",
    "X, y = data.data, data.target\n",
    "\n",
    "# Preprocess data\n",
    "scaler = StandardScaler()\n",
    "X_scaled = scaler.fit_transform(X)\n",
    "\n",
    "# Split data\n",
    "X_train, X_test, y_train, y_test = train_test_split(X_scaled, y, test_size=0.2, random_state=42)\n",
    "\n",
    "# Custom SVM\n",
    "custom_svm = SVM(learning_rate=0.01, lambda_param=0.01, n_iters=1000)\n",
    "custom_svm.fit(X_train, y_train)\n",
    "predictions_custom = custom_svm.predict(X_test)\n",
    "\n",
    "# Scikit-Learn SVM\n",
    "sklearn_svm = SklearnSVC(kernel='linear')\n",
    "sklearn_svm.fit(X_train, y_train)\n",
    "predictions_sklearn = sklearn_svm.predict(X_test)\n",
    "\n",
    "# Evaluate models\n",
    "accuracy_custom = accuracy_score(y_test, predictions_custom)\n",
    "accuracy_sklearn = accuracy_score(y_test, predictions_sklearn)\n",
    "\n",
    "print(f\"Custom SVM Accuracy: {accuracy_custom}\")\n",
    "print(f\"Scikit-Learn SVM Accuracy: {accuracy_sklearn}\")\n"
   ]
  },
  {
   "cell_type": "code",
   "execution_count": null,
   "metadata": {},
   "outputs": [],
   "source": []
  }
 ],
 "metadata": {
  "kernelspec": {
   "display_name": "base",
   "language": "python",
   "name": "python3"
  },
  "language_info": {
   "codemirror_mode": {
    "name": "ipython",
    "version": 3
   },
   "file_extension": ".py",
   "mimetype": "text/x-python",
   "name": "python",
   "nbconvert_exporter": "python",
   "pygments_lexer": "ipython3",
   "version": "3.10.9"
  }
 },
 "nbformat": 4,
 "nbformat_minor": 2
}
