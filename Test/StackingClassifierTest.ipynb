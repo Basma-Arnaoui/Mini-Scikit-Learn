{
 "cells": [
  {
   "cell_type": "code",
   "execution_count": 1,
   "metadata": {},
   "outputs": [
    {
     "name": "stdout",
     "output_type": "stream",
     "text": [
      "Custom Stacking Accuracy: 0.37777777777777777\n",
      "Sklearn Stacking Accuracy: 0.6\n"
     ]
    }
   ],
   "source": [
    "from sklearn.datasets import load_iris\n",
    "from model_selection.train_test_split import train_test_split\n",
    "from sklearn.ensemble import StackingClassifier as SklearnStackingClassifier\n",
    "from sklearn.svm import SVC\n",
    "from metrics.Accuracy import Accuracy\n",
    "from supervised_learning.classification.DecisionTreeClassifier import DecisionTreeClassifier\n",
    "from supervised_learning.classification.LogisticRegression import LogisticRegression\n",
    "from supervised_learning.classification.KNNClassifier import KNNClassifier\n",
    "from ensemble.StackingClassifier import StackingClassifier  # Adjust import according to your file structure\n",
    "from clone import clone\n",
    "import numpy as np\n",
    "\n",
    "def test_stacking_classifier():\n",
    "    # Load data\n",
    "    data = load_iris()\n",
    "    X, y = data.data, data.target\n",
    "    X_train, X_test, y_train, y_test = train_test_split(X, y, test_size=0.3, random_state=42)\n",
    "\n",
    "    # Define base models and meta model\n",
    "    base_models = [DecisionTreeClassifier(), KNNClassifier(), SVC(probability=True)]\n",
    "    meta_model = LogisticRegression()\n",
    "\n",
    "    # Custom Stacking Classifier\n",
    "    stacking_custom = StackingClassifier(base_models=base_models, meta_model=meta_model)\n",
    "    stacking_custom.fit(X_train, y_train)\n",
    "    predictions_custom = stacking_custom.predict(X_test)\n",
    "    accuracy_custom = Accuracy()\n",
    "    accuracy_score_custom = accuracy_custom.score(y_test, predictions_custom)\n",
    "\n",
    "    # Scikit-Learn Stacking Classifier\n",
    "    estimators = [\n",
    "        ('dt', DecisionTreeClassifier()),\n",
    "        ('knn', KNNClassifier()),\n",
    "        ('svc', SVC(probability=True))\n",
    "    ]\n",
    "    stacking_sklearn = SklearnStackingClassifier(estimators=estimators, final_estimator=LogisticRegression())\n",
    "    stacking_sklearn.fit(X_train, y_train)\n",
    "    predictions_sklearn = stacking_sklearn.predict(X_test)\n",
    "    accuracy_sklearn = Accuracy()\n",
    "    accuracy_score_sklearn = accuracy_sklearn.score(y_test, predictions_sklearn)\n",
    "\n",
    "\n",
    "    # Output results\n",
    "    print(f\"Custom Stacking Accuracy: {accuracy_score_custom}\")\n",
    "    print(f\"Sklearn Stacking Accuracy: {accuracy_score_sklearn}\")\n",
    "\n",
    "test_stacking_classifier()\n"
   ]
  },
  {
   "cell_type": "code",
   "execution_count": null,
   "metadata": {},
   "outputs": [],
   "source": []
  }
 ],
 "metadata": {
  "kernelspec": {
   "display_name": "Python 3",
   "language": "python",
   "name": "python3"
  },
  "language_info": {
   "codemirror_mode": {
    "name": "ipython",
    "version": 3
   },
   "file_extension": ".py",
   "mimetype": "text/x-python",
   "name": "python",
   "nbconvert_exporter": "python",
   "pygments_lexer": "ipython3",
   "version": "3.10.9"
  }
 },
 "nbformat": 4,
 "nbformat_minor": 2
}
