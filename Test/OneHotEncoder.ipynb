{
 "cells": [
  {
   "cell_type": "code",
   "execution_count": 2,
   "metadata": {},
   "outputs": [
    {
     "name": "stdout",
     "output_type": "stream",
     "text": [
      "[[0. 0. 0. ... 1. 0. 0.]\n",
      " [0. 0. 0. ... 1. 0. 0.]\n",
      " [0. 0. 0. ... 1. 0. 0.]\n",
      " ...\n",
      " [0. 0. 0. ... 0. 0. 1.]\n",
      " [0. 0. 0. ... 0. 0. 1.]\n",
      " [0. 0. 0. ... 0. 0. 1.]]\n",
      "Custom OneHotEncoder tests passed successfully!\n",
      "One-hot encoded data shape: (150, 126)\n"
     ]
    }
   ],
   "source": [
    "import sys\n",
    "sys.path.append(\"../\")\n",
    "import numpy as np\n",
    "import pandas as pd\n",
    "from sklearn.preprocessing import OneHotEncoder as SklearnOneHotEncoder\n",
    "from sklearn.datasets import load_iris\n",
    "from preprocessing.OneHotEncoder import OneHotEncoder  # Adjust import path as needed\n",
    "\n",
    "def test_one_hot_encoder():\n",
    "    data = load_iris()\n",
    "    X = data.data\n",
    "    y = data.target.reshape(-1, 1)  # Make y a 2D array for the encoders\n",
    "\n",
    "    # Combine X and y for complete one-hot encoding on dataset features including target\n",
    "    X = np.hstack([X, y])\n",
    "\n",
    "    # Custom OneHotEncoder\n",
    "    custom_encoder = OneHotEncoder()\n",
    "    X_custom_encoded = custom_encoder.fit_transform(X)\n",
    "\n",
    "    # Sklearn OneHotEncoder\n",
    "    sklearn_encoder = SklearnOneHotEncoder(sparse_output=False)\n",
    "    X_sklearn_encoded = sklearn_encoder.fit_transform(X)\n",
    "\n",
    "    # Output comparison\n",
    "    assert np.array_equal(X_custom_encoded, X_sklearn_encoded), \"Mismatch in one-hot encoded results\"\n",
    "    print(X_custom_encoded)\n",
    "    print(\"Custom OneHotEncoder tests passed successfully!\")\n",
    "    print(\"One-hot encoded data shape:\", X_custom_encoded.shape)\n",
    "\n",
    "test_one_hot_encoder()\n"
   ]
  },
  {
   "cell_type": "code",
   "execution_count": null,
   "metadata": {},
   "outputs": [],
   "source": []
  }
 ],
 "metadata": {
  "kernelspec": {
   "display_name": "Python 3",
   "language": "python",
   "name": "python3"
  },
  "language_info": {
   "codemirror_mode": {
    "name": "ipython",
    "version": 3
   },
   "file_extension": ".py",
   "mimetype": "text/x-python",
   "name": "python",
   "nbconvert_exporter": "python",
   "pygments_lexer": "ipython3",
   "version": "3.10.9"
  }
 },
 "nbformat": 4,
 "nbformat_minor": 2
}
