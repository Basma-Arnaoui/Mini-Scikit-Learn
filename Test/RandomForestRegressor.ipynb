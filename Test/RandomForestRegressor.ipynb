{
 "cells": [
  {
   "cell_type": "code",
   "execution_count": 6,
   "metadata": {},
   "outputs": [
    {
     "name": "stdout",
     "output_type": "stream",
     "text": [
      "Diabetes Dataset Evaluation:\n",
      "Our Model Mean Squared Error: 3096.4428\n",
      "Scikit-Learn Model Mean Squared Error: 3135.2893\n",
      "Our Model R2 Score: 0.4156\n",
      "Scikit-Learn Model R2 Score: 0.4082\n"
     ]
    }
   ],
   "source": [
    "import sys\n",
    "sys.path.append(\"../\")\n",
    "import numpy as np\n",
    "from sklearn.datasets import load_diabetes\n",
    "from sklearn.model_selection import train_test_split\n",
    "from sklearn.metrics import mean_squared_error, r2_score\n",
    "from sklearn.ensemble import RandomForestRegressor as SklearnRandomForestRegressor\n",
    "from supervised_learning.regression.RandomForestRegressor import RandomForestRegressor\n",
    "\n",
    "def test_random_forest_on_diabetes():\n",
    "    # Load dataset\n",
    "    data = load_diabetes()\n",
    "    X, y = data.data, data.target\n",
    "    X_train, X_test, y_train, y_test = train_test_split(X, y, test_size=0.2, random_state=42)\n",
    "\n",
    "    # Train our custom RandomForestRegressor\n",
    "    our_model = RandomForestRegressor(n_estimators=10, min_samples_split=2, max_depth=None, oob_score=True)\n",
    "    our_model.fit(X_train, y_train)\n",
    "    y_pred_our = our_model.predict(X_test)\n",
    "\n",
    "    # Train sklearn's RandomForestRegressor\n",
    "    sklearn_model = SklearnRandomForestRegressor(n_estimators=10, min_samples_split=2, max_depth=None, random_state=42)\n",
    "    sklearn_model.fit(X_train, y_train)\n",
    "    y_pred_sklearn = sklearn_model.predict(X_test)\n",
    "\n",
    "    # Calculate evaluation metrics\n",
    "    mse_our = mean_squared_error(y_test, y_pred_our)\n",
    "    mse_sklearn = mean_squared_error(y_test, y_pred_sklearn)\n",
    "\n",
    "    r2_our = r2_score(y_test, y_pred_our)\n",
    "    r2_sklearn = r2_score(y_test, y_pred_sklearn)\n",
    "\n",
    "    # Print evaluation metrics\n",
    "    print(f\"Diabetes Dataset Evaluation:\")\n",
    "    print(f\"Our Model Mean Squared Error: {mse_our:.4f}\")\n",
    "    print(f\"Scikit-Learn Model Mean Squared Error: {mse_sklearn:.4f}\")\n",
    "\n",
    "    print(f\"Our Model R2 Score: {r2_our:.4f}\")\n",
    "    print(f\"Scikit-Learn Model R2 Score: {r2_sklearn:.4f}\")\n",
    "\n",
    "# Run the test\n",
    "test_random_forest_on_diabetes()\n"
   ]
  },
  {
   "cell_type": "code",
   "execution_count": null,
   "metadata": {},
   "outputs": [],
   "source": []
  }
 ],
 "metadata": {
  "kernelspec": {
   "display_name": "Python 3",
   "language": "python",
   "name": "python3"
  },
  "language_info": {
   "codemirror_mode": {
    "name": "ipython",
    "version": 3
   },
   "file_extension": ".py",
   "mimetype": "text/x-python",
   "name": "python",
   "nbconvert_exporter": "python",
   "pygments_lexer": "ipython3",
   "version": "3.10.9"
  }
 },
 "nbformat": 4,
 "nbformat_minor": 2
}
