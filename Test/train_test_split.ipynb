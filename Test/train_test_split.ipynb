{
 "cells": [
  {
   "cell_type": "code",
   "execution_count": 2,
   "metadata": {},
   "outputs": [
    {
     "name": "stdout",
     "output_type": "stream",
     "text": [
      "[[32 33]\n",
      " [64 65]\n",
      " [ 0  1]\n",
      " [92 93]\n",
      " [44 45]\n",
      " [36 37]\n",
      " [52 53]\n",
      " [ 4  5]\n",
      " [88 89]\n",
      " [20 21]\n",
      " [ 8  9]\n",
      " [48 49]\n",
      " [60 61]\n",
      " [12 13]\n",
      " [16 17]\n",
      " [80 81]\n",
      " [68 69]\n",
      " [84 85]\n",
      " [72 73]\n",
      " [96 97]\n",
      " [54 55]\n",
      " [42 43]\n",
      " [22 23]\n",
      " [30 31]\n",
      " [70 71]\n",
      " [ 6  7]\n",
      " [82 83]\n",
      " [ 2  3]\n",
      " [94 95]\n",
      " [78 79]\n",
      " [50 51]\n",
      " [18 19]\n",
      " [10 11]\n",
      " [34 35]\n",
      " [14 15]\n",
      " [26 27]\n",
      " [90 91]\n",
      " [74 75]\n",
      " [58 59]\n",
      " [62 63]]\n",
      "[[40 41]\n",
      " [24 25]\n",
      " [56 57]\n",
      " [76 77]\n",
      " [38 39]\n",
      " [98 99]\n",
      " [66 67]\n",
      " [46 47]\n",
      " [28 29]\n",
      " [86 87]]\n",
      "Custom train_test_split with stratification passed all tests successfully!\n"
     ]
    }
   ],
   "source": [
    "import numpy as np\n",
    "from sklearn.model_selection import train_test_split as sklearn_train_test_split\n",
    "from model_selection.train_test_split import train_test_split  # Adjust import path as needed\n",
    "\n",
    "def test_train_test_split():\n",
    "    # Generate some data to split\n",
    "    X = np.arange(100).reshape(50, 2)  # 50 samples, 2 features each\n",
    "    y = np.tile(np.array([0, 1]), 25)  # 50 targets alternating between 0 and 1\n",
    "\n",
    "    # Custom train_test_split with stratification\n",
    "    X_train_custom, X_test_custom, y_train_custom, y_test_custom = train_test_split(\n",
    "        X, y, test_size=0.2, random_state=42, shuffle=True, stratify=y)\n",
    "\n",
    "    # Sklearn train_test_split with stratification\n",
    "    X_train_sklearn, X_test_sklearn, y_train_sklearn, y_test_sklearn = sklearn_train_test_split(\n",
    "        X, y, test_size=0.2, random_state=42, shuffle=True, stratify=y)\n",
    "\n",
    "    # Assert the shapes are identical\n",
    "    assert X_train_custom.shape == X_train_sklearn.shape, \"Mismatch in train set size\"\n",
    "    assert X_test_custom.shape == X_test_sklearn.shape, \"Mismatch in test set size\"\n",
    "\n",
    "    # Assert the distribution of classes is similar\n",
    "    assert np.all(np.bincount(y_train_custom) == np.bincount(y_train_sklearn)), \"Mismatch in class distribution in train sets\"\n",
    "    assert np.all(np.bincount(y_test_custom) == np.bincount(y_test_sklearn)), \"Mismatch in class distribution in test sets\"\n",
    "    print(X_train_custom)\n",
    "    print(X_test_sklearn)\n",
    "    print(\"Custom train_test_split with stratification passed all tests successfully!\")\n",
    "\n",
    "test_train_test_split()\n"
   ]
  },
  {
   "cell_type": "code",
   "execution_count": null,
   "metadata": {},
   "outputs": [],
   "source": []
  }
 ],
 "metadata": {
  "kernelspec": {
   "display_name": "Python 3",
   "language": "python",
   "name": "python3"
  },
  "language_info": {
   "codemirror_mode": {
    "name": "ipython",
    "version": 3
   },
   "file_extension": ".py",
   "mimetype": "text/x-python",
   "name": "python",
   "nbconvert_exporter": "python",
   "pygments_lexer": "ipython3",
   "version": "3.10.9"
  }
 },
 "nbformat": 4,
 "nbformat_minor": 2
}
