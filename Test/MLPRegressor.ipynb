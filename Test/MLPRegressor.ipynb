{
 "cells": [
  {
   "cell_type": "code",
   "execution_count": 1,
   "metadata": {},
   "outputs": [
    {
     "name": "stdout",
     "output_type": "stream",
     "text": [
      "Custom MLPRegressor MSE: 1.0740786534567102\n",
      "Scikit-Learn MLPRegressor MSE: 0.2720615078767866\n"
     ]
    }
   ],
   "source": [
    "import sys\n",
    "sys.path.append(\"../\")\n",
    "import numpy as np\n",
    "from sklearn.datasets import fetch_california_housing\n",
    "from sklearn.model_selection import train_test_split\n",
    "from sklearn.preprocessing import StandardScaler\n",
    "from sklearn.neural_network import MLPRegressor as SklearnMLPRegressor\n",
    "from sklearn.metrics import mean_squared_error\n",
    "from neural_networks.MLPRegressor import MLPRegressor\n",
    "\n",
    "# Load California housing data\n",
    "data = fetch_california_housing()\n",
    "X, y = data.data, data.target\n",
    "\n",
    "# Preprocess data\n",
    "scaler = StandardScaler()\n",
    "X_scaled = scaler.fit_transform(X)\n",
    "\n",
    "# Split data\n",
    "X_train, X_test, y_train, y_test = train_test_split(X_scaled, y, test_size=0.3, random_state=42)\n",
    "\n",
    "# Custom MLPRegressor\n",
    "custom_mlp = MLPRegressor(hidden_layer_sizes=(64, 64), activation='relu', learning_rate=0.001, max_iter=500)\n",
    "custom_mlp.fit(X_train, y_train.reshape(-1, 1))\n",
    "predictions_custom = custom_mlp.predict(X_test).flatten()\n",
    "\n",
    "# Scikit-Learn MLPRegressor\n",
    "sklearn_mlp = SklearnMLPRegressor(hidden_layer_sizes=(64, 64), activation='relu', learning_rate_init=0.001, max_iter=500, random_state=42)\n",
    "sklearn_mlp.fit(X_train, y_train)\n",
    "predictions_sklearn = sklearn_mlp.predict(X_test)\n",
    "\n",
    "# Evaluate models\n",
    "mse_custom = mean_squared_error(y_test, predictions_custom)\n",
    "mse_sklearn = mean_squared_error(y_test, predictions_sklearn)\n",
    "\n",
    "print(f\"Custom MLPRegressor MSE: {mse_custom}\")\n",
    "print(f\"Scikit-Learn MLPRegressor MSE: {mse_sklearn}\")"
   ]
  }
 ],
 "metadata": {
  "kernelspec": {
   "display_name": "base",
   "language": "python",
   "name": "python3"
  },
  "language_info": {
   "codemirror_mode": {
    "name": "ipython",
    "version": 3
   },
   "file_extension": ".py",
   "mimetype": "text/x-python",
   "name": "python",
   "nbconvert_exporter": "python",
   "pygments_lexer": "ipython3",
   "version": "3.12.2"
  }
 },
 "nbformat": 4,
 "nbformat_minor": 2
}
