{
 "cells": [
  {
   "cell_type": "code",
   "execution_count": 3,
   "metadata": {},
   "outputs": [
    {
     "name": "stdout",
     "output_type": "stream",
     "text": [
      "Custom AdaBoost Accuracy: 0.9239766081871345\n",
      "Scikit-learn AdaBoost Accuracy: 0.9766081871345029\n"
     ]
    }
   ],
   "source": [
    "import sys\n",
    "sys.path.append(\"../\")\n",
    "from sklearn.datasets import load_breast_cancer\n",
    "from sklearn.model_selection import train_test_split\n",
    "from sklearn.ensemble import AdaBoostClassifier as SklearnAdaBoostClassifier\n",
    "from sklearn.metrics import accuracy_score\n",
    "from ensemble.AdaBoost import AdaBoost\n",
    "\n",
    "\n",
    "def test_adaboost():\n",
    "    data = load_breast_cancer()\n",
    "    X, y = data.data, data.target\n",
    "    y[y == 0] = -1  # Adjust target to fit AdaBoost if using -1, 1\n",
    "    X_train, X_test, y_train, y_test = train_test_split(X, y, test_size=0.3, random_state=42)\n",
    "\n",
    "    # Custom AdaBoost\n",
    "    adaboost_custom = AdaBoost(n_estimators=10, learning_rate=1.0)\n",
    "    adaboost_custom.fit(X_train, y_train)\n",
    "    y_pred_custom = adaboost_custom.predict(X_test)\n",
    "    accuracy_custom = accuracy_score(y_test, y_pred_custom)\n",
    "\n",
    "    # Scikit-learn AdaBoost\n",
    "    adaboost_sklearn = SklearnAdaBoostClassifier(n_estimators=10, learning_rate=1.0, algorithm=\"SAMME\")\n",
    "    adaboost_sklearn.fit(X_train, y_train)\n",
    "    y_pred_sklearn = adaboost_sklearn.predict(X_test)\n",
    "    accuracy_sklearn = accuracy_score(y_test, y_pred_sklearn)\n",
    "\n",
    "    print(f\"Custom AdaBoost Accuracy: {accuracy_custom}\")\n",
    "    print(f\"Scikit-learn AdaBoost Accuracy: {accuracy_sklearn}\")\n",
    "\n",
    "if __name__ == \"__main__\":\n",
    "    test_adaboost()"
   ]
  },
  {
   "cell_type": "code",
   "execution_count": null,
   "metadata": {},
   "outputs": [],
   "source": []
  }
 ],
 "metadata": {
  "kernelspec": {
   "display_name": "base",
   "language": "python",
   "name": "python3"
  },
  "language_info": {
   "codemirror_mode": {
    "name": "ipython",
    "version": 3
   },
   "file_extension": ".py",
   "mimetype": "text/x-python",
   "name": "python",
   "nbconvert_exporter": "python",
   "pygments_lexer": "ipython3",
   "version": "3.10.9"
  }
 },
 "nbformat": 4,
 "nbformat_minor": 2
}
