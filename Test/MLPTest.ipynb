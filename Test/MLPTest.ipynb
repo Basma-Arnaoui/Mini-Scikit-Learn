{
 "cells": [
  {
   "cell_type": "code",
   "execution_count": 4,
   "metadata": {},
   "outputs": [
    {
     "name": "stdout",
     "output_type": "stream",
     "text": [
      "Digits dataset - Custom MLP Accuracy: 0.975\n",
      "Digits dataset - Sklearn MLP Accuracy: 0.9833333333333333\n",
      "Wine dataset - Custom MLP Accuracy: 1.0\n",
      "Wine dataset - Sklearn MLP Accuracy: 1.0\n"
     ]
    },
    {
     "name": "stderr",
     "output_type": "stream",
     "text": [
      "/opt/homebrew/Caskroom/miniconda/base/lib/python3.12/site-packages/sklearn/neural_network/_multilayer_perceptron.py:691: ConvergenceWarning: Stochastic Optimizer: Maximum iterations (200) reached and the optimization hasn't converged yet.\n",
      "  warnings.warn(\n"
     ]
    }
   ],
   "source": [
    "import sys\n",
    "sys.path.append(\"../\")\n",
    "from sklearn.datasets import load_digits, load_wine\n",
    "from sklearn.preprocessing import StandardScaler\n",
    "from sklearn.model_selection import train_test_split\n",
    "from sklearn.metrics import accuracy_score\n",
    "from sklearn.neural_network import MLPClassifier\n",
    "\n",
    "# Import the custom MLP class\n",
    "from neural_networks.MLP import MLP  # Adjust the import according to your file structure\n",
    "\n",
    "def test_mlp_on_dataset(X, y):\n",
    "    X_train, X_test, y_train, y_test = train_test_split(X, y, test_size=0.2, random_state=42)\n",
    "\n",
    "    # Scale the features for better performance of the neural network\n",
    "    scaler = StandardScaler()\n",
    "    X_train = scaler.fit_transform(X_train)\n",
    "    X_test = scaler.transform(X_test)\n",
    "\n",
    "    # Initialize and train the custom MLP\n",
    "    mlp_custom = MLP(layer_sizes=[X_train.shape[1], 64, len(set(y))], epochs=200)\n",
    "    mlp_custom.fit(X_train, y_train)\n",
    "\n",
    "    # Initialize and train the sklearn MLP\n",
    "    mlp_sklearn = MLPClassifier(hidden_layer_sizes=(64,), max_iter=200, random_state=42)\n",
    "    mlp_sklearn.fit(X_train, y_train)\n",
    "\n",
    "    # Predict and calculate accuracy\n",
    "    predictions_custom = mlp_custom.predict(X_test)\n",
    "    accuracy_custom = accuracy_score(y_test, predictions_custom)\n",
    "\n",
    "    predictions_sklearn = mlp_sklearn.predict(X_test)\n",
    "    accuracy_sklearn = accuracy_score(y_test, predictions_sklearn)\n",
    "\n",
    "    return accuracy_custom, accuracy_sklearn\n",
    "\n",
    "def run_tests():\n",
    "    # Load the digits dataset\n",
    "    digits = load_digits()\n",
    "    digits_accuracy_custom, digits_accuracy_sklearn = test_mlp_on_dataset(digits.data, digits.target)\n",
    "    print(f\"Digits dataset - Custom MLP Accuracy: {digits_accuracy_custom}\")\n",
    "    print(f\"Digits dataset - Sklearn MLP Accuracy: {digits_accuracy_sklearn}\")\n",
    "\n",
    "    # Load the wine dataset\n",
    "    wine = load_wine()\n",
    "    wine_accuracy_custom, wine_accuracy_sklearn = test_mlp_on_dataset(wine.data, wine.target)\n",
    "    print(f\"Wine dataset - Custom MLP Accuracy: {wine_accuracy_custom}\")\n",
    "    print(f\"Wine dataset - Sklearn MLP Accuracy: {wine_accuracy_sklearn}\")\n",
    "\n",
    "run_tests()"
   ]
  }
 ],
 "metadata": {
  "kernelspec": {
   "display_name": "base",
   "language": "python",
   "name": "python3"
  },
  "language_info": {
   "codemirror_mode": {
    "name": "ipython",
    "version": 3
   },
   "file_extension": ".py",
   "mimetype": "text/x-python",
   "name": "python",
   "nbconvert_exporter": "python",
   "pygments_lexer": "ipython3",
   "version": "3.12.2"
  }
 },
 "nbformat": 4,
 "nbformat_minor": 2
}
