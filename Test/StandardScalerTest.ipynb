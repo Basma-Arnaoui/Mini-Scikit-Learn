{
 "cells": [
  {
   "cell_type": "code",
   "execution_count": 2,
   "metadata": {},
   "outputs": [
    {
     "name": "stdout",
     "output_type": "stream",
     "text": [
      "Custom Standard Scaled Data:\n",
      " [[-0.90068117  1.01900435 -1.34022653 -1.3154443 ]\n",
      " [-1.14301691 -0.13197948 -1.34022653 -1.3154443 ]\n",
      " [-1.38535265  0.32841405 -1.39706395 -1.3154443 ]\n",
      " [-1.50652052  0.09821729 -1.2833891  -1.3154443 ]\n",
      " [-1.02184904  1.24920112 -1.34022653 -1.3154443 ]]\n",
      "Sklearn Standard Scaled Data:\n",
      " [[-0.90068117  1.01900435 -1.34022653 -1.3154443 ]\n",
      " [-1.14301691 -0.13197948 -1.34022653 -1.3154443 ]\n",
      " [-1.38535265  0.32841405 -1.39706395 -1.3154443 ]\n",
      " [-1.50652052  0.09821729 -1.2833891  -1.3154443 ]\n",
      " [-1.02184904  1.24920112 -1.34022653 -1.3154443 ]]\n",
      "StandardScaler test passed!\n"
     ]
    }
   ],
   "source": [
    "import numpy as np\n",
    "from sklearn.preprocessing import StandardScaler as SklearnStandardScaler\n",
    "from sklearn.datasets import load_iris\n",
    "from preprocessing.StandardScaler import StandardScaler  # Adjust import path as needed\n",
    "\n",
    "def test_standard_scaler():\n",
    "    data = load_iris()\n",
    "    X = data.data\n",
    "\n",
    "    # Custom StandardScaler\n",
    "    custom_scaler = StandardScaler()\n",
    "    X_custom_scaled = custom_scaler.fit_transform(X)\n",
    "\n",
    "    # Sklearn StandardScaler\n",
    "    sklearn_scaler = SklearnStandardScaler()\n",
    "    X_sklearn_scaled = sklearn_scaler.fit_transform(X)\n",
    "\n",
    "    # Output comparison\n",
    "    print(\"Custom Standard Scaled Data:\\n\", X_custom_scaled[:5])\n",
    "    print(\"Sklearn Standard Scaled Data:\\n\", X_sklearn_scaled[:5])\n",
    "\n",
    "    # Assert close\n",
    "    assert np.allclose(X_custom_scaled, X_sklearn_scaled, atol=1e-5), \"Mismatch in StandardScaler results\"\n",
    "\n",
    "    print(\"StandardScaler test passed!\")\n",
    "\n",
    "test_standard_scaler()\n"
   ]
  },
  {
   "cell_type": "code",
   "execution_count": null,
   "metadata": {},
   "outputs": [],
   "source": []
  }
 ],
 "metadata": {
  "kernelspec": {
   "display_name": "Python 3",
   "language": "python",
   "name": "python3"
  },
  "language_info": {
   "codemirror_mode": {
    "name": "ipython",
    "version": 3
   },
   "file_extension": ".py",
   "mimetype": "text/x-python",
   "name": "python",
   "nbconvert_exporter": "python",
   "pygments_lexer": "ipython3",
   "version": "3.10.9"
  }
 },
 "nbformat": 4,
 "nbformat_minor": 2
}
