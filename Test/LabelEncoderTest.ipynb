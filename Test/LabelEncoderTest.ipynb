{
 "cells": [
  {
   "cell_type": "code",
   "execution_count": 1,
   "metadata": {},
   "outputs": [
    {
     "name": "stdout",
     "output_type": "stream",
     "text": [
      "Custom LabelEncoder DataFrame tests passed successfully!\n",
      "DataFrame with encoded and decoded values:\n",
      "    fruits  colors  fruits_encoded  fruits_encoded_sklearn fruits_decoded\n",
      "0   apple     red               0                       0          apple\n",
      "1  orange  orange               2                       2         orange\n",
      "2  banana  yellow               1                       1         banana\n",
      "3  banana  yellow               1                       1         banana\n",
      "4  orange  orange               2                       2         orange\n",
      "5   apple   green               0                       0          apple\n"
     ]
    }
   ],
   "source": [
    "import numpy as np\n",
    "import pandas as pd\n",
    "from preprocessing.LabelEncoder import LabelEncoder  # Adjust import path as needed\n",
    "from sklearn.preprocessing import LabelEncoder as SklearnLabelEncoder\n",
    "\n",
    "def test_label_encoder_with_dataframe():\n",
    "    # Create a DataFrame\n",
    "    df = pd.DataFrame({\n",
    "        'fruits': ['apple', 'orange', 'banana', 'banana', 'orange', 'apple'],\n",
    "        'colors': ['red', 'orange', 'yellow', 'yellow', 'orange', 'green']\n",
    "    })\n",
    "\n",
    "    # Custom LabelEncoder on 'fruits' column\n",
    "    custom_encoder = LabelEncoder()\n",
    "    df['fruits_encoded'] = custom_encoder.fit_transform(df['fruits'])\n",
    "\n",
    "    # Sklearn LabelEncoder on 'fruits' column\n",
    "    sklearn_encoder = SklearnLabelEncoder()\n",
    "    df['fruits_encoded_sklearn'] = sklearn_encoder.fit_transform(df['fruits'])\n",
    "\n",
    "    # Check if both encodings are identical\n",
    "    assert np.array_equal(df['fruits_encoded'], df['fruits_encoded_sklearn']), \"Encoded values do not match\"\n",
    "\n",
    "    # Test inverse transformation using custom encoder\n",
    "    df['fruits_decoded'] = custom_encoder.inverse_transform(df['fruits_encoded'])\n",
    "\n",
    "    # Validate if decoded values match original\n",
    "    assert np.array_equal(df['fruits'], df['fruits_decoded']), \"Decoded values do not match original\"\n",
    "\n",
    "    print(\"Custom LabelEncoder DataFrame tests passed successfully!\")\n",
    "    print(\"DataFrame with encoded and decoded values:\\n\", df)\n",
    "\n",
    "test_label_encoder_with_dataframe()\n"
   ]
  },
  {
   "cell_type": "code",
   "execution_count": null,
   "metadata": {},
   "outputs": [],
   "source": []
  }
 ],
 "metadata": {
  "kernelspec": {
   "display_name": "Python 3",
   "language": "python",
   "name": "python3"
  },
  "language_info": {
   "codemirror_mode": {
    "name": "ipython",
    "version": 3
   },
   "file_extension": ".py",
   "mimetype": "text/x-python",
   "name": "python",
   "nbconvert_exporter": "python",
   "pygments_lexer": "ipython3",
   "version": "3.10.9"
  }
 },
 "nbformat": 4,
 "nbformat_minor": 2
}
