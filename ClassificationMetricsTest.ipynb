{
 "cells": [
  {
   "cell_type": "code",
   "execution_count": 18,
   "metadata": {},
   "outputs": [
    {
     "name": "stdout",
     "output_type": "stream",
     "text": [
      "Custom Accuracy: 0.9777777777777777, Sklearn Accuracy: 0.9777777777777777\n",
      "Custom Precision: 0.9285714285714286, Sklearn Precision: 0.9285714285714286\n",
      "Custom Recall: 1.0, Sklearn Recall: 1.0\n",
      "Custom F1 Score: 0.962962962962963, Sklearn F1 Score: 0.9629629629629629\n",
      "Custom Confusion Matrix:\n",
      "[[31  1]\n",
      " [ 0 13]], \n",
      "Sklearn Confusion Matrix:\n",
      "[[31  1]\n",
      " [ 0 13]]\n"
     ]
    }
   ],
   "source": [
    "import numpy as np\n",
    "from sklearn.datasets import load_iris\n",
    "from sklearn.model_selection import train_test_split\n",
    "from sklearn.metrics import accuracy_score as sklearn_accuracy_score\n",
    "from sklearn.metrics import precision_score as sklearn_precision_score\n",
    "from sklearn.metrics import recall_score as sklearn_recall_score\n",
    "from sklearn.metrics import f1_score as sklearn_f1_score\n",
    "from sklearn.metrics import confusion_matrix as sklearn_confusion_matrix\n",
    "\n",
    "from supervised_learning.classification.LogisticRegression import LogisticRegression\n",
    "from metrics.Accuracy import Accuracy\n",
    "from metrics.Precision import Precision\n",
    "from metrics.Recall import Recall\n",
    "from metrics.F1Score import F1Score\n",
    "from metrics.ConfusionMatrix import ConfusionMatrix\n",
    "\n",
    "def test_metrics_comparison():\n",
    "    # Load data\n",
    "    data = load_iris()\n",
    "    X, y = data.data, data.target\n",
    "    y = (y == 2).astype(int)  # Simplify task to binary classification for clarity\n",
    "\n",
    "    # Split data\n",
    "    X_train, X_test, y_train, y_test = train_test_split(X, y, test_size=0.3, random_state=42)\n",
    "\n",
    "    # Fit model\n",
    "    model = LogisticRegression()\n",
    "    model.fit(X_train, y_train)\n",
    "    y_pred = model.predict(X_test)\n",
    "\n",
    "    # Initialize metric objects\n",
    "    accuracy = Accuracy()\n",
    "    precision = Precision()\n",
    "    recall = Recall()\n",
    "    f1score = F1Score()\n",
    "    confusion_matrix = ConfusionMatrix()\n",
    "\n",
    "\n",
    "    # Calculate custom metrics\n",
    "    custom_accuracy = accuracy.score(y_test, y_pred)\n",
    "    custom_precision = precision.score(y_test, y_pred)\n",
    "    custom_recall = recall.score(y_test, y_pred)\n",
    "    custom_f1 = f1score.score(y_test, y_pred)\n",
    "    custom_confusion_matrix = confusion_matrix.score(y_test, y_pred)\n",
    "\n",
    "    # Calculate sklearn metrics\n",
    "    sklearn_accuracy = sklearn_accuracy_score(y_test, y_pred)\n",
    "    sklearn_precision = sklearn_precision_score(y_test, y_pred)\n",
    "    sklearn_recall = sklearn_recall_score(y_test, y_pred)\n",
    "    sklearn_f1 = sklearn_f1_score(y_test, y_pred)\n",
    "    sklearn_confusion = sklearn_confusion_matrix(y_test, y_pred)\n",
    "\n",
    "    # Output results\n",
    "    print(f\"Custom Accuracy: {custom_accuracy}, Sklearn Accuracy: {sklearn_accuracy}\")\n",
    "    print(f\"Custom Precision: {custom_precision}, Sklearn Precision: {sklearn_precision}\")\n",
    "    print(f\"Custom Recall: {custom_recall}, Sklearn Recall: {sklearn_recall}\")\n",
    "    print(f\"Custom F1 Score: {custom_f1}, Sklearn F1 Score: {sklearn_f1}\")\n",
    "    print(f\"Custom Confusion Matrix:\\n{custom_confusion_matrix}, \\nSklearn Confusion Matrix:\\n{sklearn_confusion}\")\n",
    "\n",
    "test_metrics_comparison()"
   ]
  }
 ],
 "metadata": {
  "kernelspec": {
   "display_name": "base",
   "language": "python",
   "name": "python3"
  },
  "language_info": {
   "codemirror_mode": {
    "name": "ipython",
    "version": 3
   },
   "file_extension": ".py",
   "mimetype": "text/x-python",
   "name": "python",
   "nbconvert_exporter": "python",
   "pygments_lexer": "ipython3",
   "version": "3.12.2"
  }
 },
 "nbformat": 4,
 "nbformat_minor": 2
}
