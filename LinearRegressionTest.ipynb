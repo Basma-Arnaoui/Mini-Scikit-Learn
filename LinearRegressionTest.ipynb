{
 "cells": [
  {
   "cell_type": "code",
   "execution_count": 18,
   "metadata": {},
   "outputs": [
    {
     "name": "stdout",
     "output_type": "stream",
     "text": [
      "Mean Squared Error (Our Model): 0.13961895650579045\n",
      "Mean Squared Error (Scikit-learn Model): 0.13961895650579023\n"
     ]
    }
   ],
   "source": [
    "import pandas as pd\n",
    "from sklearn.datasets import load_iris\n",
    "from sklearn.model_selection import train_test_split\n",
    "from supervised_learning.regression.LinearRegression import LinearRegression\n",
    "from sklearn.metrics import mean_squared_error\n",
    "from sklearn.linear_model import LinearRegression as SklearnLinearRegression\n",
    "\n",
    "# Load the Iris dataset\n",
    "iris = load_iris()\n",
    "\n",
    "# Create a DataFrame with only one feature (sepal length) and the target (sepal width)\n",
    "X = pd.DataFrame(iris.data[:, 0], columns=['sepal_length'])\n",
    "y = pd.Series(iris.data[:, 1], name='sepal_width')\n",
    "\n",
    "# Split the dataset into training and testing sets\n",
    "X_train, X_test, y_train, y_test = train_test_split(X, y, test_size=0.2, random_state=42)\n",
    "\n",
    "# Create and fit the linear regression model from our implementation\n",
    "our_model = LinearRegression()\n",
    "our_model.fit(X_train, y_train)\n",
    "our_y_pred = our_model.predict(X_test)\n",
    "\n",
    "# Calculate Mean Squared Error for our model\n",
    "our_mse = mean_squared_error(y_test, our_y_pred)\n",
    "\n",
    "# Create and fit the linear regression model from Scikit-learn\n",
    "sklearn_model = SklearnLinearRegression()\n",
    "sklearn_model.fit(X_train, y_train)\n",
    "sklearn_y_pred = sklearn_model.predict(X_test)\n",
    "\n",
    "# Calculate Mean Squared Error for the model from Scikit-learn\n",
    "sklearn_mse = mean_squared_error(y_test, sklearn_y_pred)\n",
    "\n",
    "print(\"Mean Squared Error (Our Model):\", our_mse)\n",
    "print(\"Mean Squared Error (Scikit-learn Model):\", sklearn_mse)"
   ]
  }
 ],
 "metadata": {
  "kernelspec": {
   "display_name": "Python 3",
   "language": "python",
   "name": "python3"
  },
  "language_info": {
   "codemirror_mode": {
    "name": "ipython",
    "version": 3
   },
   "file_extension": ".py",
   "mimetype": "text/x-python",
   "name": "python",
   "nbconvert_exporter": "python",
   "pygments_lexer": "ipython3",
   "version": "3.10.13"
  }
 },
 "nbformat": 4,
 "nbformat_minor": 2
}
