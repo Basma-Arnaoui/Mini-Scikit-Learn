{
 "cells": [
  {
   "cell_type": "code",
   "execution_count": 1,
   "metadata": {},
   "outputs": [
    {
     "name": "stderr",
     "output_type": "stream",
     "text": [
      "C:\\Users\\bouha\\AppData\\Local\\Temp\\ipykernel_16140\\3119409342.py:2: DeprecationWarning: \n",
      "Pyarrow will become a required dependency of pandas in the next major release of pandas (pandas 3.0),\n",
      "(to allow more performant data types, such as the Arrow string type, and better interoperability with other libraries)\n",
      "but was not found to be installed on your system.\n",
      "If this would cause problems for you,\n",
      "please provide us feedback at https://github.com/pandas-dev/pandas/issues/54466\n",
      "        \n",
      "  import pandas as pd\n"
     ]
    },
    {
     "name": "stdout",
     "output_type": "stream",
     "text": [
      "Our Model MSE: 0.5558915986954801\n",
      "Scikit-Learn Model MSE: 0.5558915986952425\n",
      "Our Model R-squared: 0.5757877060322709\n",
      "Scikit-Learn Model R-squared: 0.5757877060324521\n",
      "Our Model MAE: 0.5332001304959607\n",
      "Scikit-Learn Model MAE: 0.5332001304956989\n",
      "Our Model MAPE: 31.95218741366428%\n",
      "Scikit-Learn Model MAPE: 31.952187413621747%\n"
     ]
    }
   ],
   "source": [
    "import numpy as np\n",
    "import pandas as pd\n",
    "from sklearn.model_selection import train_test_split\n",
    "from sklearn.linear_model import LinearRegression as SklearnLinearRegression\n",
    "from sklearn.metrics import mean_squared_error, r2_score, mean_absolute_error\n",
    "from sklearn.datasets import fetch_california_housing\n",
    "from supervised_learning.regression.LinearRegression import LinearRegression\n",
    "\n",
    "# Load dataset\n",
    "california_housing = fetch_california_housing()\n",
    "df = pd.DataFrame(data=np.c_[california_housing['data'], california_housing['target']],\n",
    "                  columns=list(california_housing['feature_names']) + ['target'])\n",
    "\n",
    "\n",
    "X = df.iloc[:, :-1].values\n",
    "y = df.iloc[:, -1].values\n",
    "\n",
    "# Split the dataset into training and test sets\n",
    "X_train, X_test, y_train, y_test = train_test_split(X, y, test_size=0.2, random_state=42)\n",
    "\n",
    "# Train our linear regression model\n",
    "our_model = LinearRegression()\n",
    "our_model.fit(X_train, y_train)\n",
    "y_pred_our = our_model.predict(X_test)\n",
    "\n",
    "# Train sklearn's linear regression model\n",
    "sklearn_model = SklearnLinearRegression()\n",
    "sklearn_model.fit(X_train, y_train)\n",
    "y_pred_sklearn = sklearn_model.predict(X_test)\n",
    "\n",
    "# Evaluate models using mean squared error, R-squared, MAE, and MAPE\n",
    "mse_our = mean_squared_error(y_test, y_pred_our)\n",
    "mse_sklearn = mean_squared_error(y_test, y_pred_sklearn)\n",
    "r2_our = r2_score(y_test, y_pred_our)\n",
    "r2_sklearn = r2_score(y_test, y_pred_sklearn)\n",
    "mae_our = mean_absolute_error(y_test, y_pred_our)\n",
    "mae_sklearn = mean_absolute_error(y_test, y_pred_sklearn)\n",
    "mape_our = np.mean(np.abs((y_test - y_pred_our) / y_test)) * 100\n",
    "mape_sklearn = np.mean(np.abs((y_test - y_pred_sklearn) / y_test)) * 100\n",
    "\n",
    "print(f\"Our Model MSE: {mse_our}\")\n",
    "print(f\"Scikit-Learn Model MSE: {mse_sklearn}\")\n",
    "print(f\"Our Model R-squared: {r2_our}\")\n",
    "print(f\"Scikit-Learn Model R-squared: {r2_sklearn}\")\n",
    "print(f\"Our Model MAE: {mae_our}\")\n",
    "print(f\"Scikit-Learn Model MAE: {mae_sklearn}\")\n",
    "print(f\"Our Model MAPE: {mape_our}%\")\n",
    "print(f\"Scikit-Learn Model MAPE: {mape_sklearn}%\")"
   ]
  }
 ],
 "metadata": {
  "kernelspec": {
   "display_name": "Python 3",
   "language": "python",
   "name": "python3"
  },
  "language_info": {
   "codemirror_mode": {
    "name": "ipython",
    "version": 3
   },
   "file_extension": ".py",
   "mimetype": "text/x-python",
   "name": "python",
   "nbconvert_exporter": "python",
   "pygments_lexer": "ipython3",
   "version": "3.12.2"
  }
 },
 "nbformat": 4,
 "nbformat_minor": 2
}
