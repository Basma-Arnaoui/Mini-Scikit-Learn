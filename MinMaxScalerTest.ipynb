{
 "cells": [
  {
   "cell_type": "code",
   "execution_count": 1,
   "metadata": {},
   "outputs": [
    {
     "name": "stdout",
     "output_type": "stream",
     "text": [
      "Custom MinMax Scaled Data:\n",
      " [[0.22222222 0.625      0.06779661 0.04166667]\n",
      " [0.16666667 0.41666667 0.06779661 0.04166667]\n",
      " [0.11111111 0.5        0.05084746 0.04166667]\n",
      " [0.08333333 0.45833333 0.08474576 0.04166667]\n",
      " [0.19444444 0.66666667 0.06779661 0.04166667]]\n",
      "Sklearn MinMax Scaled Data:\n",
      " [[0.22222222 0.625      0.06779661 0.04166667]\n",
      " [0.16666667 0.41666667 0.06779661 0.04166667]\n",
      " [0.11111111 0.5        0.05084746 0.04166667]\n",
      " [0.08333333 0.45833333 0.08474576 0.04166667]\n",
      " [0.19444444 0.66666667 0.06779661 0.04166667]]\n",
      "MinMaxScaler test passed!\n"
     ]
    }
   ],
   "source": [
    "import numpy as np\n",
    "from sklearn.preprocessing import MinMaxScaler as SklearnMinMaxScaler\n",
    "from sklearn.datasets import load_iris\n",
    "from preprocessing.MinMaxScaler import MinMaxScaler  # Adjust import path as needed\n",
    "\n",
    "def test_minmax_scaler():\n",
    "    data = load_iris()\n",
    "    X = data.data\n",
    "\n",
    "    # Custom MinMaxScaler\n",
    "    custom_scaler = MinMaxScaler()\n",
    "    X_custom_scaled = custom_scaler.fit_transform(X)\n",
    "\n",
    "    # Sklearn MinMaxScaler\n",
    "    sklearn_scaler = SklearnMinMaxScaler()\n",
    "    X_sklearn_scaled = sklearn_scaler.fit_transform(X)\n",
    "\n",
    "    # Output comparison\n",
    "    print(\"Custom MinMax Scaled Data:\\n\", X_custom_scaled[:5])\n",
    "    print(\"Sklearn MinMax Scaled Data:\\n\", X_sklearn_scaled[:5])\n",
    "\n",
    "    # Assert close\n",
    "    assert np.allclose(X_custom_scaled, X_sklearn_scaled), \"Mismatch in MinMaxScaler results\"\n",
    "\n",
    "    print(\"MinMaxScaler test passed!\")\n",
    "\n",
    "test_minmax_scaler()\n"
   ]
  },
  {
   "cell_type": "code",
   "execution_count": null,
   "metadata": {},
   "outputs": [],
   "source": []
  }
 ],
 "metadata": {
  "kernelspec": {
   "display_name": "Python 3",
   "language": "python",
   "name": "python3"
  },
  "language_info": {
   "codemirror_mode": {
    "name": "ipython",
    "version": 3
   },
   "file_extension": ".py",
   "mimetype": "text/x-python",
   "name": "python",
   "nbconvert_exporter": "python",
   "pygments_lexer": "ipython3",
   "version": "3.10.9"
  }
 },
 "nbformat": 4,
 "nbformat_minor": 2
}
