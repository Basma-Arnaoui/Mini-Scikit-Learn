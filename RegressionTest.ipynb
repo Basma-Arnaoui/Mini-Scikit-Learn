{
 "cells": [
  {
   "cell_type": "markdown",
   "metadata": {},
   "source": [
    "### Loading the data"
   ]
  },
  {
   "cell_type": "code",
   "execution_count": 4,
   "metadata": {},
   "outputs": [],
   "source": [
    "from sklearn.datasets import load_diabetes\n",
    "from sklearn.metrics import mean_squared_error\n",
    "from sklearn.model_selection import train_test_split\n",
    "\n",
    "# Load the Diabetes dataset\n",
    "data = load_diabetes()\n",
    "X, y = data.data, data.target\n",
    "X_train, X_test, y_train, y_test = train_test_split(X, y, test_size=0.3, random_state=42)\n"
   ]
  },
  {
   "cell_type": "markdown",
   "metadata": {},
   "source": [
    "### Custom vs Scikit-Learn: Decision Tree Regressor\n"
   ]
  },
  {
   "cell_type": "code",
   "execution_count": 5,
   "metadata": {},
   "outputs": [
    {
     "name": "stdout",
     "output_type": "stream",
     "text": [
      "Custom Decision Tree Regressor MSE: 4234.581816017141\n",
      "Scikit-Learn Decision Tree Regressor MSE: 3818.0714941788437\n"
     ]
    }
   ],
   "source": [
    "from supervised_learning.regression.DecisionTreeRegressor import DecisionTreeRegressor  # Assuming custom implementation\n",
    "from sklearn.tree import DecisionTreeRegressor as SklearnDecisionTreeRegressor\n",
    "\n",
    "# Custom Decision Tree Regressor\n",
    "custom_dtr = DecisionTreeRegressor(max_depth=5)\n",
    "custom_dtr.fit(X_train, y_train)\n",
    "custom_dtr_predictions = custom_dtr.predict(X_test)\n",
    "custom_dtr_mse = mean_squared_error(y_test, custom_dtr_predictions)\n",
    "\n",
    "# Scikit-Learn Decision Tree Regressor\n",
    "sklearn_dtr = SklearnDecisionTreeRegressor(max_depth=5, random_state=42)\n",
    "sklearn_dtr.fit(X_train, y_train)\n",
    "sklearn_dtr_predictions = sklearn_dtr.predict(X_test)\n",
    "sklearn_dtr_mse = mean_squared_error(y_test, sklearn_dtr_predictions)\n",
    "\n",
    "print(f\"Custom Decision Tree Regressor MSE: {custom_dtr_mse}\")\n",
    "print(f\"Scikit-Learn Decision Tree Regressor MSE: {sklearn_dtr_mse}\")"
   ]
  },
  {
   "cell_type": "markdown",
   "metadata": {},
   "source": [
    "### Custom vs Scikit-Learn: Random Forest Regressor\n"
   ]
  },
  {
   "cell_type": "code",
   "execution_count": 9,
   "metadata": {},
   "outputs": [
    {
     "name": "stdout",
     "output_type": "stream",
     "text": [
      "Custom Decision Tree Regressor MSE: 2797.0712941021197\n",
      "Scikit-Learn Decision Tree Regressor MSE: 2768.904102714224\n"
     ]
    }
   ],
   "source": [
    "from ensemble.RandomForestRegressor import RandomForestRegressor  # Assuming custom implementation\n",
    "from sklearn.ensemble import RandomForestRegressor as SklearnRandomForestRegressor\n",
    "\n",
    "# Custom Random Forest Regressor\n",
    "custom_rfr = RandomForestRegressor(n_estimators=100, max_depth=5)\n",
    "custom_rfr.fit(X_train, y_train)\n",
    "custom_rfr_predictions = custom_rfr.predict(X_test)\n",
    "custom_rfr_mse = mean_squared_error(y_test, custom_rfr_predictions)\n",
    "\n",
    "# Scikit-Learn Random Forest Regressor\n",
    "sklearn_rfr = SklearnRandomForestRegressor(n_estimators=100, max_depth=5, random_state=42)\n",
    "sklearn_rfr.fit(X_train, y_train)\n",
    "sklearn_rfr_predictions = sklearn_rfr.predict(X_test)\n",
    "sklearn_rfr_mse = mean_squared_error(y_test, sklearn_rfr_predictions)\n",
    "\n",
    "print(f\"Custom Decision Tree Regressor MSE: {custom_rfr_mse}\")\n",
    "print(f\"Scikit-Learn Decision Tree Regressor MSE: {sklearn_rfr_mse}\")"
   ]
  },
  {
   "cell_type": "markdown",
   "metadata": {},
   "source": [
    "### Custom vs Scikit-Learn: Linear Regression\n"
   ]
  },
  {
   "cell_type": "code",
   "execution_count": 10,
   "metadata": {},
   "outputs": [
    {
     "name": "stdout",
     "output_type": "stream",
     "text": [
      "Custom Decision Tree Regressor MSE: 2821.7509810013094\n",
      "Scikit-Learn Decision Tree Regressor MSE: 2821.7509810013103\n"
     ]
    }
   ],
   "source": [
    "from supervised_learning.regression.LinearRegression import LinearRegression  # Assuming custom implementation\n",
    "from sklearn.linear_model import LinearRegression as SklearnLinearRegression\n",
    "\n",
    "# Custom Linear Regression\n",
    "custom_lr = LinearRegression()\n",
    "custom_lr.fit(X_train, y_train)\n",
    "custom_lr_predictions = custom_lr.predict(X_test)\n",
    "custom_lr_mse = mean_squared_error(y_test, custom_lr_predictions)\n",
    "\n",
    "# Scikit-Learn Linear Regression\n",
    "sklearn_lr = SklearnLinearRegression()\n",
    "sklearn_lr.fit(X_train, y_train)\n",
    "sklearn_lr_predictions = sklearn_lr.predict(X_test)\n",
    "sklearn_lr_mse = mean_squared_error(y_test, sklearn_lr_predictions)\n",
    "\n",
    "print(f\"Custom Decision Tree Regressor MSE: {custom_lr_mse}\")\n",
    "print(f\"Scikit-Learn Decision Tree Regressor MSE: {sklearn_lr_mse}\")"
   ]
  },
  {
   "cell_type": "markdown",
   "metadata": {},
   "source": [
    "### Custom vs Scikit-Learn: MLP Regressor\n"
   ]
  },
  {
   "cell_type": "code",
   "execution_count": 14,
   "metadata": {},
   "outputs": [
    {
     "name": "stdout",
     "output_type": "stream",
     "text": [
      "Custom MLPRegressor MSE: 3278.602816974303\n",
      "Scikit-Learn MLPRegressor MSE: 2898.272499010286\n"
     ]
    },
    {
     "name": "stderr",
     "output_type": "stream",
     "text": [
      "/Library/Frameworks/Python.framework/Versions/3.10/lib/python3.10/site-packages/sklearn/neural_network/_multilayer_perceptron.py:691: ConvergenceWarning: Stochastic Optimizer: Maximum iterations (500) reached and the optimization hasn't converged yet.\n",
      "  warnings.warn(\n"
     ]
    }
   ],
   "source": [
    "from neural_networks.MLPRegressor import MLPRegressor  \n",
    "from sklearn.neural_network import MLPRegressor as SklearnMLPRegressor\n",
    "\n",
    "# Custom MLP Regressor\n",
    "custom_mlp = MLPRegressor(hidden_layer_sizes=(64, 64), activation='relu', learning_rate=0.001, max_iter=500)\n",
    "custom_mlp.fit(X_train, y_train.reshape(-1, 1))\n",
    "predictions_custom = custom_mlp.predict(X_test).flatten()\n",
    "\n",
    "# Scikit-Learn MLPRegressor\n",
    "sklearn_mlp = SklearnMLPRegressor(hidden_layer_sizes=(64, 64), activation='relu', learning_rate_init=0.001, max_iter=500, random_state=42)\n",
    "sklearn_mlp.fit(X_train, y_train)\n",
    "predictions_sklearn = sklearn_mlp.predict(X_test)\n",
    "\n",
    "# Evaluate models\n",
    "mse_custom = mean_squared_error(y_test, predictions_custom)\n",
    "mse_sklearn = mean_squared_error(y_test, predictions_sklearn)\n",
    "\n",
    "print(f\"Custom MLPRegressor MSE: {mse_custom}\")\n",
    "print(f\"Scikit-Learn MLPRegressor MSE: {mse_sklearn}\")\n"
   ]
  },
  {
   "cell_type": "code",
   "execution_count": 16,
   "metadata": {},
   "outputs": [
    {
     "data": {
      "image/png": "[encoded data removed]",
      "text/plain": [
       "<Figure size 1080x504 with 1 Axes>"
      ]
     },
     "metadata": {
      "needs_background": "light"
     },
     "output_type": "display_data"
    }
   ],
   "source": [
    "import matplotlib.pyplot as plt\n",
    "import numpy as np\n",
    "\n",
    "# Data for plotting\n",
    "models = ['Decision Tree', 'Random Forest', 'Linear Regression', 'MLP Regressor']\n",
    "custom_mse = [custom_dtr_mse, custom_rfr_mse, custom_lr_mse, mse_custom]\n",
    "sklearn_mse = [sklearn_dtr_mse, sklearn_rfr_mse, sklearn_lr_mse, mse_sklearn]\n",
    "\n",
    "# Plotting\n",
    "fig, ax = plt.subplots(figsize=(15, 7))\n",
    "width = 0.35  # the width of the bars\n",
    "\n",
    "x = np.arange(len(models))\n",
    "rects1 = ax.bar(x - width/2, custom_mse, width, label='Custom', color='skyblue')\n",
    "rects2 = ax.bar(x + width/2, sklearn_mse, width, label='Scikit-Learn', color='salmon')\n",
    "\n",
    "# Add some text for labels, title and custom x-axis tick labels, etc.\n",
    "ax.set_xlabel('Models')\n",
    "ax.set_ylabel('Mean Squared Error')\n",
    "ax.set_title('Model MSE: Custom Implementations vs Scikit-Learn')\n",
    "ax.set_xticks(x)\n",
    "ax.set_xticklabels(models)\n",
    "ax.legend()\n",
    "\n",
    "# Adding MSE values on top of the bars\n",
    "def add_labels(rects):\n",
    "    for rect in rects:\n",
    "        height = rect.get_height()\n",
    "        ax.annotate(f'{height:.2f}',\n",
    "                    xy=(rect.get_x() + rect.get_width() / 2, height),\n",
    "                    xytext=(0, 3),  # 3 points vertical offset\n",
    "                    textcoords=\"offset points\",\n",
    "                    ha='center', va='bottom')\n",
    "\n",
    "add_labels(rects1)\n",
    "add_labels(rects2)\n",
    "\n",
    "fig.tight_layout()\n",
    "\n",
    "plt.show()\n"
   ]
  },
  {
   "cell_type": "code",
   "execution_count": null,
   "metadata": {},
   "outputs": [],
   "source": []
  }
 ],
 "metadata": {
  "kernelspec": {
   "display_name": "Python 3",
   "language": "python",
   "name": "python3"
  },
  "language_info": {
   "codemirror_mode": {
    "name": "ipython",
    "version": 3
   },
   "file_extension": ".py",
   "mimetype": "text/x-python",
   "name": "python",
   "nbconvert_exporter": "python",
   "pygments_lexer": "ipython3",
   "version": "3.10.9"
  }
 },
 "nbformat": 4,
 "nbformat_minor": 2
}
